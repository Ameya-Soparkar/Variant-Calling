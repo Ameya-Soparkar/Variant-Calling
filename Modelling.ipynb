{
 "cells": [
  {
   "cell_type": "markdown",
   "id": "polyphonic-surgery",
   "metadata": {},
   "source": [
    "In Step 1 we processed and cleaned our data so that we can work on building our model. Before building our model we first need to do some more eda and plot the categorical variables to get more understanding our data. Initially we will download pandas , matplotlib and seaborn for visualization."
   ]
  },
  {
   "cell_type": "code",
   "execution_count": 29,
   "id": "different-lesbian",
   "metadata": {},
   "outputs": [],
   "source": [
    "import pandas as pd\n",
    "import matplotlib.pyplot as plt\n",
    "%matplotlib inline\n",
    "import seaborn as sns"
   ]
  },
  {
   "cell_type": "code",
   "execution_count": 2,
   "id": "durable-world",
   "metadata": {
    "scrolled": true
   },
   "outputs": [
    {
     "name": "stderr",
     "output_type": "stream",
     "text": [
      "c:\\users\\ameya\\appdata\\local\\programs\\python\\python39\\lib\\site-packages\\IPython\\core\\interactiveshell.py:3165: DtypeWarning: Columns (0) have mixed types.Specify dtype option on import or set low_memory=False.\n",
      "  has_raised = await self.run_ast_nodes(code_ast.body, cell_name,\n"
     ]
    },
    {
     "data": {
      "text/html": [
       "<div>\n",
       "<style scoped>\n",
       "    .dataframe tbody tr th:only-of-type {\n",
       "        vertical-align: middle;\n",
       "    }\n",
       "\n",
       "    .dataframe tbody tr th {\n",
       "        vertical-align: top;\n",
       "    }\n",
       "\n",
       "    .dataframe thead th {\n",
       "        text-align: right;\n",
       "    }\n",
       "</style>\n",
       "<table border=\"1\" class=\"dataframe\">\n",
       "  <thead>\n",
       "    <tr style=\"text-align: right;\">\n",
       "      <th></th>\n",
       "      <th>CHROM</th>\n",
       "      <th>POS</th>\n",
       "      <th>ID</th>\n",
       "      <th>REF</th>\n",
       "      <th>ALT_1</th>\n",
       "      <th>ALLELEID</th>\n",
       "      <th>CLNDN</th>\n",
       "      <th>CLNREVSTAT</th>\n",
       "      <th>CLNSIG</th>\n",
       "      <th>CLNVC</th>\n",
       "      <th>MC</th>\n",
       "      <th>ORIGIN</th>\n",
       "      <th>numalt</th>\n",
       "      <th>altlen_1</th>\n",
       "      <th>is_snp</th>\n",
       "      <th>CONFLICTING</th>\n",
       "    </tr>\n",
       "  </thead>\n",
       "  <tbody>\n",
       "    <tr>\n",
       "      <th>0</th>\n",
       "      <td>1</td>\n",
       "      <td>871143.0</td>\n",
       "      <td>1127328</td>\n",
       "      <td>G</td>\n",
       "      <td>A</td>\n",
       "      <td>1110870</td>\n",
       "      <td>not_provided</td>\n",
       "      <td>criteria_provided</td>\n",
       "      <td>Benign</td>\n",
       "      <td>single_nucleotide_variant</td>\n",
       "      <td>SO:0001627|intron_variant</td>\n",
       "      <td>1.0</td>\n",
       "      <td>1</td>\n",
       "      <td>0</td>\n",
       "      <td>True</td>\n",
       "      <td>0</td>\n",
       "    </tr>\n",
       "    <tr>\n",
       "      <th>1</th>\n",
       "      <td>1</td>\n",
       "      <td>871143.0</td>\n",
       "      <td>1158587</td>\n",
       "      <td>G</td>\n",
       "      <td>T</td>\n",
       "      <td>1131742</td>\n",
       "      <td>not_provided</td>\n",
       "      <td>criteria_provided</td>\n",
       "      <td>Benign</td>\n",
       "      <td>single_nucleotide_variant</td>\n",
       "      <td>SO:0001627|intron_variant</td>\n",
       "      <td>1.0</td>\n",
       "      <td>1</td>\n",
       "      <td>0</td>\n",
       "      <td>True</td>\n",
       "      <td>0</td>\n",
       "    </tr>\n",
       "    <tr>\n",
       "      <th>2</th>\n",
       "      <td>1</td>\n",
       "      <td>871215.0</td>\n",
       "      <td>1170011</td>\n",
       "      <td>C</td>\n",
       "      <td>G</td>\n",
       "      <td>1153710</td>\n",
       "      <td>not_provided</td>\n",
       "      <td>criteria_provided</td>\n",
       "      <td>Benign</td>\n",
       "      <td>single_nucleotide_variant</td>\n",
       "      <td>SO:0001819|synonymous_variant</td>\n",
       "      <td>1.0</td>\n",
       "      <td>1</td>\n",
       "      <td>0</td>\n",
       "      <td>True</td>\n",
       "      <td>0</td>\n",
       "    </tr>\n",
       "    <tr>\n",
       "      <th>3</th>\n",
       "      <td>1</td>\n",
       "      <td>871215.0</td>\n",
       "      <td>1169806</td>\n",
       "      <td>C</td>\n",
       "      <td>T</td>\n",
       "      <td>1153711</td>\n",
       "      <td>not_provided</td>\n",
       "      <td>criteria_provided</td>\n",
       "      <td>Benign</td>\n",
       "      <td>single_nucleotide_variant</td>\n",
       "      <td>SO:0001819|synonymous_variant</td>\n",
       "      <td>1.0</td>\n",
       "      <td>1</td>\n",
       "      <td>0</td>\n",
       "      <td>True</td>\n",
       "      <td>0</td>\n",
       "    </tr>\n",
       "    <tr>\n",
       "      <th>4</th>\n",
       "      <td>1</td>\n",
       "      <td>874456.0</td>\n",
       "      <td>1122639</td>\n",
       "      <td>G</td>\n",
       "      <td>A</td>\n",
       "      <td>1110873</td>\n",
       "      <td>not_provided</td>\n",
       "      <td>criteria_provided</td>\n",
       "      <td>Benign</td>\n",
       "      <td>single_nucleotide_variant</td>\n",
       "      <td>SO:0001583|missense_variant</td>\n",
       "      <td>1.0</td>\n",
       "      <td>1</td>\n",
       "      <td>0</td>\n",
       "      <td>True</td>\n",
       "      <td>1</td>\n",
       "    </tr>\n",
       "    <tr>\n",
       "      <th>...</th>\n",
       "      <td>...</td>\n",
       "      <td>...</td>\n",
       "      <td>...</td>\n",
       "      <td>...</td>\n",
       "      <td>...</td>\n",
       "      <td>...</td>\n",
       "      <td>...</td>\n",
       "      <td>...</td>\n",
       "      <td>...</td>\n",
       "      <td>...</td>\n",
       "      <td>...</td>\n",
       "      <td>...</td>\n",
       "      <td>...</td>\n",
       "      <td>...</td>\n",
       "      <td>...</td>\n",
       "      <td>...</td>\n",
       "    </tr>\n",
       "    <tr>\n",
       "      <th>156817</th>\n",
       "      <td>MT</td>\n",
       "      <td>15852.0</td>\n",
       "      <td>693968</td>\n",
       "      <td>T</td>\n",
       "      <td>G</td>\n",
       "      <td>680858</td>\n",
       "      <td>Leigh_syndrome</td>\n",
       "      <td>criteria_provided</td>\n",
       "      <td>Uncertain_significance</td>\n",
       "      <td>single_nucleotide_variant</td>\n",
       "      <td>SO:0001583|missense_variant</td>\n",
       "      <td>1.0</td>\n",
       "      <td>1</td>\n",
       "      <td>0</td>\n",
       "      <td>True</td>\n",
       "      <td>1</td>\n",
       "    </tr>\n",
       "    <tr>\n",
       "      <th>156818</th>\n",
       "      <td>MT</td>\n",
       "      <td>15860.0</td>\n",
       "      <td>693970</td>\n",
       "      <td>A</td>\n",
       "      <td>G</td>\n",
       "      <td>680859</td>\n",
       "      <td>Leigh_syndrome</td>\n",
       "      <td>criteria_provided</td>\n",
       "      <td>Benign</td>\n",
       "      <td>single_nucleotide_variant</td>\n",
       "      <td>SO:0001583|missense_variant</td>\n",
       "      <td>1.0</td>\n",
       "      <td>1</td>\n",
       "      <td>0</td>\n",
       "      <td>True</td>\n",
       "      <td>0</td>\n",
       "    </tr>\n",
       "    <tr>\n",
       "      <th>156819</th>\n",
       "      <td>MT</td>\n",
       "      <td>15860.0</td>\n",
       "      <td>693969</td>\n",
       "      <td>A</td>\n",
       "      <td>T</td>\n",
       "      <td>680860</td>\n",
       "      <td>Leigh_syndrome</td>\n",
       "      <td>criteria_provided</td>\n",
       "      <td>Benign</td>\n",
       "      <td>single_nucleotide_variant</td>\n",
       "      <td>SO:0001583|missense_variant</td>\n",
       "      <td>1.0</td>\n",
       "      <td>1</td>\n",
       "      <td>0</td>\n",
       "      <td>True</td>\n",
       "      <td>0</td>\n",
       "    </tr>\n",
       "    <tr>\n",
       "      <th>156820</th>\n",
       "      <td>MT</td>\n",
       "      <td>15884.0</td>\n",
       "      <td>143900</td>\n",
       "      <td>G</td>\n",
       "      <td>A</td>\n",
       "      <td>153625</td>\n",
       "      <td>Neoplasm_of_ovary|Leigh_syndrome</td>\n",
       "      <td>criteria_provided</td>\n",
       "      <td>Benign</td>\n",
       "      <td>single_nucleotide_variant</td>\n",
       "      <td>SO:0001583|missense_variant</td>\n",
       "      <td>1.0</td>\n",
       "      <td>1</td>\n",
       "      <td>0</td>\n",
       "      <td>True</td>\n",
       "      <td>0</td>\n",
       "    </tr>\n",
       "    <tr>\n",
       "      <th>156821</th>\n",
       "      <td>MT</td>\n",
       "      <td>15884.0</td>\n",
       "      <td>252455</td>\n",
       "      <td>G</td>\n",
       "      <td>C</td>\n",
       "      <td>247210</td>\n",
       "      <td>Leigh_syndrome|not_specified</td>\n",
       "      <td>criteria_provided</td>\n",
       "      <td>Benign</td>\n",
       "      <td>single_nucleotide_variant</td>\n",
       "      <td>SO:0001583|missense_variant</td>\n",
       "      <td>1.0</td>\n",
       "      <td>1</td>\n",
       "      <td>0</td>\n",
       "      <td>True</td>\n",
       "      <td>0</td>\n",
       "    </tr>\n",
       "  </tbody>\n",
       "</table>\n",
       "<p>156822 rows × 16 columns</p>\n",
       "</div>"
      ],
      "text/plain": [
       "       CHROM       POS       ID REF ALT_1  ALLELEID  \\\n",
       "0          1  871143.0  1127328   G     A   1110870   \n",
       "1          1  871143.0  1158587   G     T   1131742   \n",
       "2          1  871215.0  1170011   C     G   1153710   \n",
       "3          1  871215.0  1169806   C     T   1153711   \n",
       "4          1  874456.0  1122639   G     A   1110873   \n",
       "...      ...       ...      ...  ..   ...       ...   \n",
       "156817    MT   15852.0   693968   T     G    680858   \n",
       "156818    MT   15860.0   693970   A     G    680859   \n",
       "156819    MT   15860.0   693969   A     T    680860   \n",
       "156820    MT   15884.0   143900   G     A    153625   \n",
       "156821    MT   15884.0   252455   G     C    247210   \n",
       "\n",
       "                                   CLNDN         CLNREVSTAT  \\\n",
       "0                           not_provided  criteria_provided   \n",
       "1                           not_provided  criteria_provided   \n",
       "2                           not_provided  criteria_provided   \n",
       "3                           not_provided  criteria_provided   \n",
       "4                           not_provided  criteria_provided   \n",
       "...                                  ...                ...   \n",
       "156817                    Leigh_syndrome  criteria_provided   \n",
       "156818                    Leigh_syndrome  criteria_provided   \n",
       "156819                    Leigh_syndrome  criteria_provided   \n",
       "156820  Neoplasm_of_ovary|Leigh_syndrome  criteria_provided   \n",
       "156821      Leigh_syndrome|not_specified  criteria_provided   \n",
       "\n",
       "                        CLNSIG                      CLNVC  \\\n",
       "0                       Benign  single_nucleotide_variant   \n",
       "1                       Benign  single_nucleotide_variant   \n",
       "2                       Benign  single_nucleotide_variant   \n",
       "3                       Benign  single_nucleotide_variant   \n",
       "4                       Benign  single_nucleotide_variant   \n",
       "...                        ...                        ...   \n",
       "156817  Uncertain_significance  single_nucleotide_variant   \n",
       "156818                  Benign  single_nucleotide_variant   \n",
       "156819                  Benign  single_nucleotide_variant   \n",
       "156820                  Benign  single_nucleotide_variant   \n",
       "156821                  Benign  single_nucleotide_variant   \n",
       "\n",
       "                                   MC  ORIGIN  numalt  altlen_1  is_snp  \\\n",
       "0           SO:0001627|intron_variant     1.0       1         0    True   \n",
       "1           SO:0001627|intron_variant     1.0       1         0    True   \n",
       "2       SO:0001819|synonymous_variant     1.0       1         0    True   \n",
       "3       SO:0001819|synonymous_variant     1.0       1         0    True   \n",
       "4         SO:0001583|missense_variant     1.0       1         0    True   \n",
       "...                               ...     ...     ...       ...     ...   \n",
       "156817    SO:0001583|missense_variant     1.0       1         0    True   \n",
       "156818    SO:0001583|missense_variant     1.0       1         0    True   \n",
       "156819    SO:0001583|missense_variant     1.0       1         0    True   \n",
       "156820    SO:0001583|missense_variant     1.0       1         0    True   \n",
       "156821    SO:0001583|missense_variant     1.0       1         0    True   \n",
       "\n",
       "        CONFLICTING  \n",
       "0                 0  \n",
       "1                 0  \n",
       "2                 0  \n",
       "3                 0  \n",
       "4                 1  \n",
       "...             ...  \n",
       "156817            1  \n",
       "156818            0  \n",
       "156819            0  \n",
       "156820            0  \n",
       "156821            0  \n",
       "\n",
       "[156822 rows x 16 columns]"
      ]
     },
     "execution_count": 2,
     "metadata": {},
     "output_type": "execute_result"
    }
   ],
   "source": [
    "#reeading the csv file we created in the step 1\n",
    "df = pd.read_csv('final_df.csv')\n",
    "df"
   ]
  },
  {
   "cell_type": "markdown",
   "id": "driven-bumper",
   "metadata": {},
   "source": [
    "Before we start any plotting, we need to correct the data type of chromosome column, for our modelling we need to keep it as one data type. We will use pandas replace function to replace X,Y and MT as 24,25,26 respectively. We can also see some values are strings, those can be converted as well"
   ]
  },
  {
   "cell_type": "code",
   "execution_count": 3,
   "id": "entitled-defense",
   "metadata": {
    "scrolled": true
   },
   "outputs": [
    {
     "data": {
      "text/plain": [
       "array([1, 2, 3, 4, 5, 6, 7, 8, 9, 10, 11, 12, 13, 14, 15, 16, 17, '17',\n",
       "       '18', '19', '20', '21', '22', '23', 'X', 'Y', 'MT'], dtype=object)"
      ]
     },
     "execution_count": 3,
     "metadata": {},
     "output_type": "execute_result"
    }
   ],
   "source": [
    "df.CHROM.unique()"
   ]
  },
  {
   "cell_type": "code",
   "execution_count": 4,
   "id": "published-fitting",
   "metadata": {},
   "outputs": [],
   "source": [
    "#creating dictionary to replace the values\n",
    "d={'X': 24, 'Y': 25, 'MT': 26, '17':17, '18': 18, '19':19, '20':20, '21': 21, '22':22, '23':23 }"
   ]
  },
  {
   "cell_type": "code",
   "execution_count": 5,
   "id": "tribal-laugh",
   "metadata": {},
   "outputs": [],
   "source": [
    "#replacing the values in chromosome column\n",
    "df.replace({\"CHROM\": d}, inplace=True)"
   ]
  },
  {
   "cell_type": "code",
   "execution_count": 6,
   "id": "seventh-composition",
   "metadata": {
    "scrolled": true
   },
   "outputs": [
    {
     "data": {
      "text/plain": [
       "array([ 1,  2,  3,  4,  5,  6,  7,  8,  9, 10, 11, 12, 13, 14, 15, 16, 17,\n",
       "       18, 19, 20, 21, 22, 23, 24, 25, 26], dtype=int64)"
      ]
     },
     "execution_count": 6,
     "metadata": {},
     "output_type": "execute_result"
    }
   ],
   "source": [
    "# checking if the replace method has worked properly\n",
    "df.CHROM.unique()"
   ]
  },
  {
   "cell_type": "markdown",
   "id": "confirmed-implementation",
   "metadata": {},
   "source": [
    "We will create a copy of our dataframe as df1 to work on model building and plotting"
   ]
  },
  {
   "cell_type": "markdown",
   "id": "entitled-taiwan",
   "metadata": {},
   "source": [
    "### Exploratory Data Analysis"
   ]
  },
  {
   "cell_type": "code",
   "execution_count": 7,
   "id": "supreme-unknown",
   "metadata": {},
   "outputs": [],
   "source": [
    "#Creating a copy of dataframe as df1\n",
    "df1= df.copy()"
   ]
  },
  {
   "cell_type": "markdown",
   "id": "expired-ceiling",
   "metadata": {},
   "source": [
    "For some plotting purpose the data is split into isConfliction and notConflicting, to analyse each dataframe individually"
   ]
  },
  {
   "cell_type": "code",
   "execution_count": 27,
   "id": "conditional-investing",
   "metadata": {},
   "outputs": [],
   "source": [
    "#Creating two dataframes as isConflicting and notConflicting\n",
    "isConflicting = df[df['CONFLICTING'] == 1]\n",
    "notConflicting = df[df['CONFLICTING'] == 0]"
   ]
  },
  {
   "cell_type": "code",
   "execution_count": 30,
   "id": "sized-adapter",
   "metadata": {},
   "outputs": [
    {
     "data": {
      "text/plain": [
       "<AxesSubplot:xlabel='count', ylabel='CHROM'>"
      ]
     },
     "execution_count": 30,
     "metadata": {},
     "output_type": "execute_result"
    },
    {
     "data": {
      "image/png": "[encoded data removed]",
      "text/plain": [
       "<Figure size 842.4x811.44 with 1 Axes>"
      ]
     },
     "metadata": {},
     "output_type": "display_data"
    }
   ],
   "source": [
    "#Every chromosome wise the categories were observed where conflicting is 1\n",
    "sns.set(rc={'figure.figsize':(11.7,11.27)})\n",
    "sns.countplot(y=\"CHROM\",hue=\"CLNSIG\", data=isConflicting)"
   ]
  },
  {
   "cell_type": "code",
   "execution_count": 32,
   "id": "graphic-transcription",
   "metadata": {
    "scrolled": true
   },
   "outputs": [
    {
     "data": {
      "text/plain": [
       "<AxesSubplot:xlabel='count', ylabel='CHROM'>"
      ]
     },
     "execution_count": 32,
     "metadata": {},
     "output_type": "execute_result"
    },
    {
     "data": {
      "image/png": "[encoded data removed]",
      "text/plain": [
       "<Figure size 842.4x811.44 with 1 Axes>"
      ]
     },
     "metadata": {},
     "output_type": "display_data"
    }
   ],
   "source": [
    "# likewise the nonconflicting database was also observed\n",
    "sns.set(rc={'figure.figsize':(11.7,11.27)})\n",
    "sns.countplot(y=\"CHROM\",hue=\"CLNSIG\", data=notConflicting)"
   ]
  },
  {
   "cell_type": "markdown",
   "id": "built-efficiency",
   "metadata": {},
   "source": [
    "From the above countplots we can clearly see chromosome 17 shows high number of Uncertain Significance followed by chromosome 2.\n",
    "Mitochondrial chromosome shows very less entries"
   ]
  },
  {
   "cell_type": "markdown",
   "id": "mathematical-housing",
   "metadata": {},
   "source": [
    "We will also go through the status column in both the dataframes"
   ]
  },
  {
   "cell_type": "code",
   "execution_count": 33,
   "id": "vertical-probe",
   "metadata": {},
   "outputs": [
    {
     "data": {
      "text/plain": [
       "<AxesSubplot:xlabel='CLNREVSTAT', ylabel='count'>"
      ]
     },
     "execution_count": 33,
     "metadata": {},
     "output_type": "execute_result"
    },
    {
     "data": {
      "image/png": "[encoded data removed]",
      "text/plain": [
       "<Figure size 842.4x811.44 with 1 Axes>"
      ]
     },
     "metadata": {},
     "output_type": "display_data"
    }
   ],
   "source": [
    "sns.countplot(x=\"CLNREVSTAT\", data=isConflicting)"
   ]
  },
  {
   "cell_type": "code",
   "execution_count": 34,
   "id": "lesser-battle",
   "metadata": {},
   "outputs": [
    {
     "data": {
      "text/plain": [
       "<AxesSubplot:xlabel='CLNREVSTAT', ylabel='count'>"
      ]
     },
     "execution_count": 34,
     "metadata": {},
     "output_type": "execute_result"
    },
    {
     "data": {
      "image/png": "[encoded data removed]",
      "text/plain": [
       "<Figure size 842.4x811.44 with 1 Axes>"
      ]
     },
     "metadata": {},
     "output_type": "display_data"
    }
   ],
   "source": [
    "sns.countplot(x=\"CLNREVSTAT\", data=notConflicting)"
   ]
  },
  {
   "cell_type": "markdown",
   "id": "exterior-potato",
   "metadata": {},
   "source": [
    "It is obvious that most of the data provided is considered through criteria provided, our chance to rely on data increases."
   ]
  },
  {
   "cell_type": "markdown",
   "id": "vocational-substance",
   "metadata": {},
   "source": [
    "We will also check the type of variant in both cases"
   ]
  },
  {
   "cell_type": "code",
   "execution_count": 35,
   "id": "taken-polls",
   "metadata": {},
   "outputs": [
    {
     "data": {
      "text/plain": [
       "<AxesSubplot:xlabel='CLNVC', ylabel='count'>"
      ]
     },
     "execution_count": 35,
     "metadata": {},
     "output_type": "execute_result"
    },
    {
     "data": {
      "image/png": "[encoded data removed]",
      "text/plain": [
       "<Figure size 842.4x811.44 with 1 Axes>"
      ]
     },
     "metadata": {},
     "output_type": "display_data"
    }
   ],
   "source": [
    "sns.countplot(x=\"CLNVC\", data=isConflicting)"
   ]
  },
  {
   "cell_type": "code",
   "execution_count": 36,
   "id": "about-greeting",
   "metadata": {
    "scrolled": false
   },
   "outputs": [
    {
     "data": {
      "text/plain": [
       "<AxesSubplot:xlabel='CLNVC', ylabel='count'>"
      ]
     },
     "execution_count": 36,
     "metadata": {},
     "output_type": "execute_result"
    },
    {
     "data": {
      "image/png": "[encoded data removed]",
      "text/plain": [
       "<Figure size 842.4x811.44 with 1 Axes>"
      ]
     },
     "metadata": {},
     "output_type": "display_data"
    }
   ],
   "source": [
    "sns.countplot(x=\"CLNVC\", data=notConflicting)"
   ]
  },
  {
   "cell_type": "markdown",
   "id": "hearing-tender",
   "metadata": {},
   "source": [
    "Single nucleotide variation is high in both cases"
   ]
  },
  {
   "cell_type": "code",
   "execution_count": null,
   "id": "reported-overview",
   "metadata": {},
   "outputs": [],
   "source": []
  },
  {
   "cell_type": "markdown",
   "id": "burning-public",
   "metadata": {},
   "source": [
    "### Statistical Analysis"
   ]
  },
  {
   "cell_type": "markdown",
   "id": "competitive-usage",
   "metadata": {},
   "source": [
    "We will perform ChiSquare test on the categoral variables. ChiSquare test will let us know which variables are useful (feature selection) for our model."
   ]
  },
  {
   "cell_type": "code",
   "execution_count": 37,
   "id": "phantom-staff",
   "metadata": {},
   "outputs": [
    {
     "data": {
      "text/plain": [
       "(array([6.39123552e+02, 4.34494326e+06, 8.34629812e+04, 4.48875833e+03,\n",
       "        4.02208384e+03, 1.55600715e+03, 5.66338446e+02]),\n",
       " array([5.18268604e-141, 0.00000000e+000, 0.00000000e+000, 0.00000000e+000,\n",
       "        0.00000000e+000, 0.00000000e+000, 3.51404610e-125]))"
      ]
     },
     "execution_count": 37,
     "metadata": {},
     "output_type": "execute_result"
    }
   ],
   "source": [
    "from sklearn.feature_selection import chi2\n",
    "X = df1[['CHROM', 'POS', 'CLNDN', 'CLNREVSTAT', 'CLNVC', 'MC','CLNSIG']]\n",
    "y= df1['CONFLICTING']\n",
    "chi_scores = chi2(X,y)\n",
    "chi_scores"
   ]
  },
  {
   "cell_type": "code",
   "execution_count": 38,
   "id": "frank-family",
   "metadata": {
    "scrolled": true
   },
   "outputs": [
    {
     "data": {
      "text/plain": [
       "<AxesSubplot:>"
      ]
     },
     "execution_count": 38,
     "metadata": {},
     "output_type": "execute_result"
    },
    {
     "data": {
      "image/png": "[encoded data removed]",
      "text/plain": [
       "<Figure size 842.4x811.44 with 1 Axes>"
      ]
     },
     "metadata": {},
     "output_type": "display_data"
    }
   ],
   "source": [
    "p_values = pd.Series(chi_scores[1],index = X.columns)\n",
    "p_values.sort_values(ascending = False , inplace = True)\n",
    "p_values.plot.bar()"
   ]
  },
  {
   "cell_type": "markdown",
   "id": "passive-belfast",
   "metadata": {},
   "source": [
    "We can clearly see CLNSIG column is is independent variable than the rest which are dependent. But for our genralised approach we will continue to keep the column in our model."
   ]
  },
  {
   "cell_type": "code",
   "execution_count": null,
   "id": "comparative-gateway",
   "metadata": {},
   "outputs": [],
   "source": []
  },
  {
   "cell_type": "markdown",
   "id": "bright-orientation",
   "metadata": {},
   "source": [
    "Our next approach is to create a very genralised model. Since the categories are too high we will go for Random Forest Classifier, initially. \n",
    "\n",
    "Here are few steps to perform processing on the data\n",
    "1. All the categorical columns will be converted using Label Encoder. (Random Forest wont consider Ordinal Category since it is based on gini impurity)\n",
    "2. We will split the data into X-train and y_train using sklearn library (70% training ans 30% test)"
   ]
  },
  {
   "cell_type": "code",
   "execution_count": 39,
   "id": "southwest-compound",
   "metadata": {},
   "outputs": [],
   "source": []
  },
  {
   "cell_type": "code",
   "execution_count": 43,
   "id": "proof-checkout",
   "metadata": {
    "scrolled": true
   },
   "outputs": [
    {
     "data": {
      "text/plain": [
       "Index(['CHROM', 'POS', 'ID', 'REF', 'ALT_1', 'ALLELEID', 'CLNDN', 'CLNREVSTAT',\n",
       "       'CLNSIG', 'CLNVC', 'MC', 'ORIGIN', 'numalt', 'altlen_1', 'is_snp',\n",
       "       'CONFLICTING'],\n",
       "      dtype='object')"
      ]
     },
     "execution_count": 43,
     "metadata": {},
     "output_type": "execute_result"
    }
   ],
   "source": [
    "df1.columns"
   ]
  },
  {
   "cell_type": "code",
   "execution_count": null,
   "id": "civilian-nicaragua",
   "metadata": {},
   "outputs": [],
   "source": [
    "from sklearn.preprocessing import LabelEncoder\n",
    "categ = ['CLNDN', 'CLNREVSTAT','CLNSIG','CLNVC', 'MC', 'REF', 'ALT_1','is_snp','POS']\n",
    "\n",
    "le = LabelEncoder()\n",
    "df1[categ] = df1[categ].apply(le.fit_transform)"
   ]
  },
  {
   "cell_type": "code",
   "execution_count": 78,
   "id": "prerequisite-suggestion",
   "metadata": {},
   "outputs": [],
   "source": [
    "X = df1[['CHROM', 'POS', 'REF', 'ALT_1', 'CLNDN', 'CLNREVSTAT', 'CLNVC', 'MC', 'ORIGIN', 'numalt', 'altlen_1', 'is_snp']]\n",
    "y = df1['CONFLICTING']\n",
    "\n",
    "\n",
    "import numpy as np\n",
    "from sklearn.model_selection import train_test_split\n",
    "X_train, X_test, y_train, y_test = train_test_split(X, y, test_size=0.30)"
   ]
  },
  {
   "cell_type": "code",
   "execution_count": 46,
   "id": "acknowledged-denver",
   "metadata": {
    "scrolled": true
   },
   "outputs": [
    {
     "data": {
      "text/html": [
       "<div>\n",
       "<style scoped>\n",
       "    .dataframe tbody tr th:only-of-type {\n",
       "        vertical-align: middle;\n",
       "    }\n",
       "\n",
       "    .dataframe tbody tr th {\n",
       "        vertical-align: top;\n",
       "    }\n",
       "\n",
       "    .dataframe thead th {\n",
       "        text-align: right;\n",
       "    }\n",
       "</style>\n",
       "<table border=\"1\" class=\"dataframe\">\n",
       "  <thead>\n",
       "    <tr style=\"text-align: right;\">\n",
       "      <th></th>\n",
       "      <th>CHROM</th>\n",
       "      <th>POS</th>\n",
       "      <th>REF</th>\n",
       "      <th>ALT_1</th>\n",
       "      <th>CLNDN</th>\n",
       "      <th>CLNREVSTAT</th>\n",
       "      <th>CLNVC</th>\n",
       "      <th>MC</th>\n",
       "      <th>ORIGIN</th>\n",
       "      <th>numalt</th>\n",
       "      <th>altlen_1</th>\n",
       "      <th>is_snp</th>\n",
       "    </tr>\n",
       "  </thead>\n",
       "  <tbody>\n",
       "    <tr>\n",
       "      <th>0</th>\n",
       "      <td>1</td>\n",
       "      <td>680</td>\n",
       "      <td>2394</td>\n",
       "      <td>0</td>\n",
       "      <td>11156</td>\n",
       "      <td>0</td>\n",
       "      <td>7</td>\n",
       "      <td>10</td>\n",
       "      <td>1.0</td>\n",
       "      <td>1</td>\n",
       "      <td>0</td>\n",
       "      <td>1</td>\n",
       "    </tr>\n",
       "    <tr>\n",
       "      <th>1</th>\n",
       "      <td>1</td>\n",
       "      <td>680</td>\n",
       "      <td>2394</td>\n",
       "      <td>2560</td>\n",
       "      <td>11156</td>\n",
       "      <td>0</td>\n",
       "      <td>7</td>\n",
       "      <td>10</td>\n",
       "      <td>1.0</td>\n",
       "      <td>1</td>\n",
       "      <td>0</td>\n",
       "      <td>1</td>\n",
       "    </tr>\n",
       "    <tr>\n",
       "      <th>2</th>\n",
       "      <td>1</td>\n",
       "      <td>681</td>\n",
       "      <td>1083</td>\n",
       "      <td>1709</td>\n",
       "      <td>11156</td>\n",
       "      <td>0</td>\n",
       "      <td>7</td>\n",
       "      <td>11</td>\n",
       "      <td>1.0</td>\n",
       "      <td>1</td>\n",
       "      <td>0</td>\n",
       "      <td>1</td>\n",
       "    </tr>\n",
       "    <tr>\n",
       "      <th>3</th>\n",
       "      <td>1</td>\n",
       "      <td>681</td>\n",
       "      <td>1083</td>\n",
       "      <td>2560</td>\n",
       "      <td>11156</td>\n",
       "      <td>0</td>\n",
       "      <td>7</td>\n",
       "      <td>11</td>\n",
       "      <td>1.0</td>\n",
       "      <td>1</td>\n",
       "      <td>0</td>\n",
       "      <td>1</td>\n",
       "    </tr>\n",
       "    <tr>\n",
       "      <th>4</th>\n",
       "      <td>1</td>\n",
       "      <td>682</td>\n",
       "      <td>2394</td>\n",
       "      <td>0</td>\n",
       "      <td>11156</td>\n",
       "      <td>0</td>\n",
       "      <td>7</td>\n",
       "      <td>4</td>\n",
       "      <td>1.0</td>\n",
       "      <td>1</td>\n",
       "      <td>0</td>\n",
       "      <td>1</td>\n",
       "    </tr>\n",
       "    <tr>\n",
       "      <th>...</th>\n",
       "      <td>...</td>\n",
       "      <td>...</td>\n",
       "      <td>...</td>\n",
       "      <td>...</td>\n",
       "      <td>...</td>\n",
       "      <td>...</td>\n",
       "      <td>...</td>\n",
       "      <td>...</td>\n",
       "      <td>...</td>\n",
       "      <td>...</td>\n",
       "      <td>...</td>\n",
       "      <td>...</td>\n",
       "    </tr>\n",
       "    <tr>\n",
       "      <th>156817</th>\n",
       "      <td>26</td>\n",
       "      <td>118</td>\n",
       "      <td>3730</td>\n",
       "      <td>1709</td>\n",
       "      <td>6353</td>\n",
       "      <td>0</td>\n",
       "      <td>7</td>\n",
       "      <td>4</td>\n",
       "      <td>1.0</td>\n",
       "      <td>1</td>\n",
       "      <td>0</td>\n",
       "      <td>1</td>\n",
       "    </tr>\n",
       "    <tr>\n",
       "      <th>156818</th>\n",
       "      <td>26</td>\n",
       "      <td>119</td>\n",
       "      <td>0</td>\n",
       "      <td>1709</td>\n",
       "      <td>6353</td>\n",
       "      <td>0</td>\n",
       "      <td>7</td>\n",
       "      <td>4</td>\n",
       "      <td>1.0</td>\n",
       "      <td>1</td>\n",
       "      <td>0</td>\n",
       "      <td>1</td>\n",
       "    </tr>\n",
       "    <tr>\n",
       "      <th>156819</th>\n",
       "      <td>26</td>\n",
       "      <td>119</td>\n",
       "      <td>0</td>\n",
       "      <td>2560</td>\n",
       "      <td>6353</td>\n",
       "      <td>0</td>\n",
       "      <td>7</td>\n",
       "      <td>4</td>\n",
       "      <td>1.0</td>\n",
       "      <td>1</td>\n",
       "      <td>0</td>\n",
       "      <td>1</td>\n",
       "    </tr>\n",
       "    <tr>\n",
       "      <th>156820</th>\n",
       "      <td>26</td>\n",
       "      <td>120</td>\n",
       "      <td>2394</td>\n",
       "      <td>0</td>\n",
       "      <td>7890</td>\n",
       "      <td>0</td>\n",
       "      <td>7</td>\n",
       "      <td>4</td>\n",
       "      <td>1.0</td>\n",
       "      <td>1</td>\n",
       "      <td>0</td>\n",
       "      <td>1</td>\n",
       "    </tr>\n",
       "    <tr>\n",
       "      <th>156821</th>\n",
       "      <td>26</td>\n",
       "      <td>120</td>\n",
       "      <td>2394</td>\n",
       "      <td>662</td>\n",
       "      <td>6372</td>\n",
       "      <td>0</td>\n",
       "      <td>7</td>\n",
       "      <td>4</td>\n",
       "      <td>1.0</td>\n",
       "      <td>1</td>\n",
       "      <td>0</td>\n",
       "      <td>1</td>\n",
       "    </tr>\n",
       "  </tbody>\n",
       "</table>\n",
       "<p>156822 rows × 12 columns</p>\n",
       "</div>"
      ],
      "text/plain": [
       "        CHROM  POS   REF  ALT_1  CLNDN  CLNREVSTAT  CLNVC  MC  ORIGIN  numalt  \\\n",
       "0           1  680  2394      0  11156           0      7  10     1.0       1   \n",
       "1           1  680  2394   2560  11156           0      7  10     1.0       1   \n",
       "2           1  681  1083   1709  11156           0      7  11     1.0       1   \n",
       "3           1  681  1083   2560  11156           0      7  11     1.0       1   \n",
       "4           1  682  2394      0  11156           0      7   4     1.0       1   \n",
       "...       ...  ...   ...    ...    ...         ...    ...  ..     ...     ...   \n",
       "156817     26  118  3730   1709   6353           0      7   4     1.0       1   \n",
       "156818     26  119     0   1709   6353           0      7   4     1.0       1   \n",
       "156819     26  119     0   2560   6353           0      7   4     1.0       1   \n",
       "156820     26  120  2394      0   7890           0      7   4     1.0       1   \n",
       "156821     26  120  2394    662   6372           0      7   4     1.0       1   \n",
       "\n",
       "        altlen_1  is_snp  \n",
       "0              0       1  \n",
       "1              0       1  \n",
       "2              0       1  \n",
       "3              0       1  \n",
       "4              0       1  \n",
       "...          ...     ...  \n",
       "156817         0       1  \n",
       "156818         0       1  \n",
       "156819         0       1  \n",
       "156820         0       1  \n",
       "156821         0       1  \n",
       "\n",
       "[156822 rows x 12 columns]"
      ]
     },
     "execution_count": 46,
     "metadata": {},
     "output_type": "execute_result"
    }
   ],
   "source": [
    "X"
   ]
  },
  {
   "cell_type": "markdown",
   "id": "destroyed-flour",
   "metadata": {},
   "source": [
    "Initially we will keep all the columns and calculate the feature importance, We will remove the features with least importance and again try to check if the score has increased or not."
   ]
  },
  {
   "cell_type": "markdown",
   "id": "grand-reduction",
   "metadata": {},
   "source": [
    "## Random Forest Classifier"
   ]
  },
  {
   "cell_type": "code",
   "execution_count": 47,
   "id": "seventh-heating",
   "metadata": {},
   "outputs": [
    {
     "name": "stdout",
     "output_type": "stream",
     "text": [
      "ACCURACY OF THE MODEL:  0.6269900312453504\n"
     ]
    }
   ],
   "source": [
    "from sklearn.ensemble import RandomForestClassifier\n",
    "clf = RandomForestClassifier(n_estimators=200)\n",
    "clf.fit(X_train, y_train)\n",
    "y_pred = clf.predict(X_test)\n",
    "from sklearn import metrics\n",
    "  \n",
    "# using metrics module for accuracy calculation\n",
    "\n",
    "print(\"ACCURACY OF THE MODEL: \", metrics.accuracy_score(y_test, y_pred))"
   ]
  },
  {
   "cell_type": "code",
   "execution_count": 53,
   "id": "atlantic-honolulu",
   "metadata": {},
   "outputs": [],
   "source": [
    "feature_importance = list(clf.feature_importances_)\n",
    "columns = X.columns"
   ]
  },
  {
   "cell_type": "code",
   "execution_count": 55,
   "id": "graphic-vampire",
   "metadata": {
    "scrolled": true
   },
   "outputs": [
    {
     "name": "stdout",
     "output_type": "stream",
     "text": [
      "CHROM : 0.08145788905141116\n",
      "POS : 0.488318737139751\n",
      "REF : 0.05559380265845534\n",
      "ALT_1 : 0.04587786672950632\n",
      "CLNDN : 0.18869662145398883\n",
      "CLNREVSTAT : 0.015634636661532773\n",
      "CLNVC : 0.015548379923347058\n",
      "MC : 0.06345688849972873\n",
      "ORIGIN : 0.01717981476925915\n",
      "numalt : 0.0\n",
      "altlen_1 : 0.019448309839374303\n",
      "is_snp : 0.008787053273645339\n"
     ]
    }
   ],
   "source": [
    "for i,j in zip(columns,feature_importance):\n",
    "    print(f'{i} : {j}')"
   ]
  },
  {
   "cell_type": "markdown",
   "id": "further-smart",
   "metadata": {},
   "source": [
    "As per our approach of Backward elimination we will remove the features with least importance and check if we can find any increase accuracy of the score. We will remove numalt and is_snp columns and run the model again."
   ]
  },
  {
   "cell_type": "code",
   "execution_count": 80,
   "id": "published-aerospace",
   "metadata": {},
   "outputs": [],
   "source": [
    "X = df1[['CHROM', 'POS', 'REF', 'ALT_1', 'CLNDN', 'CLNREVSTAT', 'CLNVC', 'MC', 'ORIGIN', 'altlen_1']]\n",
    "X_train, X_test, y_train, y_test = train_test_split(X, y, test_size=0.30)"
   ]
  },
  {
   "cell_type": "code",
   "execution_count": 59,
   "id": "respective-lambda",
   "metadata": {},
   "outputs": [
    {
     "name": "stdout",
     "output_type": "stream",
     "text": [
      "ACCURACY OF THE MODEL:  0.6272876060110103\n"
     ]
    }
   ],
   "source": [
    "clf = RandomForestClassifier(n_estimators=200)\n",
    "clf.fit(X_train, y_train)\n",
    "y_pred = clf.predict(X_test)\n",
    "print(\"ACCURACY OF THE MODEL: \", metrics.accuracy_score(y_test, y_pred))"
   ]
  },
  {
   "cell_type": "code",
   "execution_count": 60,
   "id": "proper-characteristic",
   "metadata": {},
   "outputs": [
    {
     "name": "stdout",
     "output_type": "stream",
     "text": [
      "CHROM : 0.07713160031676866\n",
      "POS : 0.48627749722992564\n",
      "REF : 0.06274784806786918\n",
      "ALT_1 : 0.05147468388524904\n",
      "CLNDN : 0.18228230881588264\n",
      "CLNREVSTAT : 0.016608029193832596\n",
      "CLNVC : 0.020208736706041182\n",
      "MC : 0.06229173007603787\n",
      "ORIGIN : 0.01774797809155903\n",
      "altlen_1 : 0.023229587616834035\n"
     ]
    }
   ],
   "source": [
    "feature_importance = list(clf.feature_importances_)\n",
    "columns = X.columns\n",
    "for i,j in zip(columns,feature_importance):\n",
    "    print(f'{i} : {j}')"
   ]
  },
  {
   "cell_type": "markdown",
   "id": "charitable-polyester",
   "metadata": {},
   "source": [
    "We couldent find much difference in the accuracy. By eliminating the columns. But we will continue to keep the X same and try for more algorithms. Next step we will use one more simple and fast algorithm GaussianNB, which is also commanly used to get some insight for our modelling"
   ]
  },
  {
   "cell_type": "code",
   "execution_count": null,
   "id": "local-defense",
   "metadata": {},
   "outputs": [],
   "source": []
  },
  {
   "cell_type": "markdown",
   "id": "passive-january",
   "metadata": {},
   "source": [
    "## GaussianNB"
   ]
  },
  {
   "cell_type": "code",
   "execution_count": 61,
   "id": "adequate-equality",
   "metadata": {},
   "outputs": [],
   "source": [
    "from sklearn.naive_bayes import GaussianNB"
   ]
  },
  {
   "cell_type": "code",
   "execution_count": 62,
   "id": "perceived-wright",
   "metadata": {},
   "outputs": [],
   "source": [
    "gnb = GaussianNB()\n",
    "gnb.fit(X_train, y_train)\n",
    "y_pred = gnb.predict(X_test)"
   ]
  },
  {
   "cell_type": "code",
   "execution_count": 63,
   "id": "behavioral-grove",
   "metadata": {},
   "outputs": [
    {
     "name": "stdout",
     "output_type": "stream",
     "text": [
      "Accuracy: 0.59483070121368\n"
     ]
    }
   ],
   "source": [
    "print(\"Accuracy:\",metrics.accuracy_score(y_test, y_pred))"
   ]
  },
  {
   "cell_type": "markdown",
   "id": "experimental-behalf",
   "metadata": {},
   "source": [
    "We can see the accuracy stays near 60%, But we will keep our Focus on Tree Based Models for now"
   ]
  },
  {
   "cell_type": "markdown",
   "id": "virgin-planning",
   "metadata": {},
   "source": [
    "Our next approach is to check the Variance and Bias using Boosting Classifiers. To increase the accuracy of Tree Based Model this classifiers are highly preffered. We will keep some learning rates with constant depth and features and get some insight before creating any final model. Our main focus is to have least Bias"
   ]
  },
  {
   "cell_type": "markdown",
   "id": "collected-probe",
   "metadata": {},
   "source": [
    "### AdaBoost Classifier"
   ]
  },
  {
   "cell_type": "code",
   "execution_count": 81,
   "id": "coated-irish",
   "metadata": {
    "scrolled": true
   },
   "outputs": [
    {
     "name": "stdout",
     "output_type": "stream",
     "text": [
      "Accuracy: 0.6260122855867537\n"
     ]
    }
   ],
   "source": [
    "from sklearn.ensemble import AdaBoostClassifier\n",
    "abc = AdaBoostClassifier(n_estimators=50,\n",
    "                         learning_rate=1)\n",
    "# Train Adaboost Classifer\n",
    "model = abc.fit(X_train, y_train)\n",
    "\n",
    "#Predict the response for test dataset\n",
    "y_pred = model.predict(X_test)\n",
    "print(\"Accuracy:\",metrics.accuracy_score(y_test, y_pred))"
   ]
  },
  {
   "cell_type": "markdown",
   "id": "female-reserve",
   "metadata": {},
   "source": [
    "AdaBoost Classifier is also giving us 62% accuracy score. Will have a look at CatBoost as well"
   ]
  },
  {
   "cell_type": "markdown",
   "id": "subsequent-alexander",
   "metadata": {},
   "source": [
    "### CatBoost Classifier"
   ]
  },
  {
   "cell_type": "code",
   "execution_count": 82,
   "id": "convenient-export",
   "metadata": {},
   "outputs": [
    {
     "name": "stdout",
     "output_type": "stream",
     "text": [
      "Learning rate set to 0.5\n",
      "0:\tlearn: 0.6677260\ttotal: 28.7ms\tremaining: 544ms\n",
      "1:\tlearn: 0.6601089\ttotal: 53.9ms\tremaining: 485ms\n",
      "2:\tlearn: 0.6551846\ttotal: 82.4ms\tremaining: 467ms\n",
      "3:\tlearn: 0.6529684\ttotal: 110ms\tremaining: 439ms\n",
      "4:\tlearn: 0.6517096\ttotal: 133ms\tremaining: 400ms\n",
      "5:\tlearn: 0.6507048\ttotal: 157ms\tremaining: 367ms\n",
      "6:\tlearn: 0.6490232\ttotal: 181ms\tremaining: 337ms\n",
      "7:\tlearn: 0.6485125\ttotal: 208ms\tremaining: 313ms\n",
      "8:\tlearn: 0.6477476\ttotal: 235ms\tremaining: 288ms\n",
      "9:\tlearn: 0.6472104\ttotal: 257ms\tremaining: 257ms\n",
      "10:\tlearn: 0.6465088\ttotal: 279ms\tremaining: 228ms\n",
      "11:\tlearn: 0.6461519\ttotal: 302ms\tremaining: 201ms\n",
      "12:\tlearn: 0.6459356\ttotal: 323ms\tremaining: 174ms\n",
      "13:\tlearn: 0.6456032\ttotal: 344ms\tremaining: 147ms\n",
      "14:\tlearn: 0.6453975\ttotal: 363ms\tremaining: 121ms\n",
      "15:\tlearn: 0.6448223\ttotal: 383ms\tremaining: 95.7ms\n",
      "16:\tlearn: 0.6444458\ttotal: 407ms\tremaining: 71.9ms\n",
      "17:\tlearn: 0.6440234\ttotal: 431ms\tremaining: 47.8ms\n",
      "18:\tlearn: 0.6436325\ttotal: 454ms\tremaining: 23.9ms\n",
      "19:\tlearn: 0.6434260\ttotal: 474ms\tremaining: 0us\n",
      "Learning rate set to 0.5\n",
      "0:\tlearn: 0.6673667\ttotal: 28.9ms\tremaining: 550ms\n",
      "1:\tlearn: 0.6603268\ttotal: 57.3ms\tremaining: 516ms\n",
      "2:\tlearn: 0.6549256\ttotal: 83.8ms\tremaining: 475ms\n",
      "3:\tlearn: 0.6522294\ttotal: 110ms\tremaining: 439ms\n",
      "4:\tlearn: 0.6509700\ttotal: 138ms\tremaining: 414ms\n",
      "5:\tlearn: 0.6496561\ttotal: 164ms\tremaining: 384ms\n",
      "6:\tlearn: 0.6486230\ttotal: 188ms\tremaining: 349ms\n",
      "7:\tlearn: 0.6477482\ttotal: 216ms\tremaining: 324ms\n",
      "8:\tlearn: 0.6470392\ttotal: 240ms\tremaining: 293ms\n",
      "9:\tlearn: 0.6464221\ttotal: 267ms\tremaining: 267ms\n",
      "10:\tlearn: 0.6457445\ttotal: 291ms\tremaining: 238ms\n",
      "11:\tlearn: 0.6451583\ttotal: 315ms\tremaining: 210ms\n",
      "12:\tlearn: 0.6447407\ttotal: 336ms\tremaining: 181ms\n",
      "13:\tlearn: 0.6443623\ttotal: 356ms\tremaining: 153ms\n",
      "14:\tlearn: 0.6439893\ttotal: 378ms\tremaining: 126ms\n",
      "15:\tlearn: 0.6438104\ttotal: 398ms\tremaining: 99.5ms\n",
      "16:\tlearn: 0.6432394\ttotal: 421ms\tremaining: 74.3ms\n",
      "17:\tlearn: 0.6428918\ttotal: 445ms\tremaining: 49.4ms\n",
      "18:\tlearn: 0.6425766\ttotal: 468ms\tremaining: 24.6ms\n",
      "19:\tlearn: 0.6424058\ttotal: 490ms\tremaining: 0us\n",
      "Learning rate set to 0.5\n",
      "0:\tlearn: 0.6683380\ttotal: 28.1ms\tremaining: 535ms\n",
      "1:\tlearn: 0.6609714\ttotal: 52.5ms\tremaining: 473ms\n",
      "2:\tlearn: 0.6559295\ttotal: 77.6ms\tremaining: 440ms\n",
      "3:\tlearn: 0.6534268\ttotal: 104ms\tremaining: 416ms\n",
      "4:\tlearn: 0.6525728\ttotal: 131ms\tremaining: 394ms\n",
      "5:\tlearn: 0.6512289\ttotal: 157ms\tremaining: 366ms\n",
      "6:\tlearn: 0.6502326\ttotal: 183ms\tremaining: 340ms\n",
      "7:\tlearn: 0.6494106\ttotal: 214ms\tremaining: 321ms\n",
      "8:\tlearn: 0.6489575\ttotal: 237ms\tremaining: 289ms\n",
      "9:\tlearn: 0.6481801\ttotal: 259ms\tremaining: 259ms\n",
      "10:\tlearn: 0.6479326\ttotal: 283ms\tremaining: 231ms\n",
      "11:\tlearn: 0.6473682\ttotal: 310ms\tremaining: 207ms\n",
      "12:\tlearn: 0.6472280\ttotal: 336ms\tremaining: 181ms\n",
      "13:\tlearn: 0.6469861\ttotal: 359ms\tremaining: 154ms\n",
      "14:\tlearn: 0.6464377\ttotal: 380ms\tremaining: 127ms\n",
      "15:\tlearn: 0.6459721\ttotal: 399ms\tremaining: 99.7ms\n",
      "16:\tlearn: 0.6457513\ttotal: 421ms\tremaining: 74.3ms\n",
      "17:\tlearn: 0.6453737\ttotal: 444ms\tremaining: 49.3ms\n",
      "18:\tlearn: 0.6452690\ttotal: 466ms\tremaining: 24.5ms\n",
      "19:\tlearn: 0.6449602\ttotal: 488ms\tremaining: 0us\n",
      "Learning rate set to 0.5\n",
      "0:\tlearn: 0.6679448\ttotal: 39.1ms\tremaining: 743ms\n",
      "1:\tlearn: 0.6603831\ttotal: 69ms\tremaining: 621ms\n",
      "2:\tlearn: 0.6556356\ttotal: 105ms\tremaining: 596ms\n",
      "3:\tlearn: 0.6534991\ttotal: 139ms\tremaining: 555ms\n",
      "4:\tlearn: 0.6522605\ttotal: 166ms\tremaining: 499ms\n",
      "5:\tlearn: 0.6514144\ttotal: 193ms\tremaining: 451ms\n",
      "6:\tlearn: 0.6506445\ttotal: 217ms\tremaining: 403ms\n",
      "7:\tlearn: 0.6490907\ttotal: 240ms\tremaining: 360ms\n",
      "8:\tlearn: 0.6484124\ttotal: 267ms\tremaining: 327ms\n",
      "9:\tlearn: 0.6479374\ttotal: 296ms\tremaining: 296ms\n",
      "10:\tlearn: 0.6471607\ttotal: 325ms\tremaining: 266ms\n",
      "11:\tlearn: 0.6467928\ttotal: 351ms\tremaining: 234ms\n",
      "12:\tlearn: 0.6462982\ttotal: 378ms\tremaining: 204ms\n",
      "13:\tlearn: 0.6457908\ttotal: 405ms\tremaining: 174ms\n",
      "14:\tlearn: 0.6454349\ttotal: 428ms\tremaining: 143ms\n",
      "15:\tlearn: 0.6450029\ttotal: 449ms\tremaining: 112ms\n",
      "16:\tlearn: 0.6448096\ttotal: 474ms\tremaining: 83.6ms\n",
      "17:\tlearn: 0.6441636\ttotal: 501ms\tremaining: 55.6ms\n",
      "18:\tlearn: 0.6439421\ttotal: 527ms\tremaining: 27.8ms\n",
      "19:\tlearn: 0.6438182\ttotal: 554ms\tremaining: 0us\n",
      "Learning rate set to 0.5\n",
      "0:\tlearn: 0.6685108\ttotal: 25.2ms\tremaining: 479ms\n",
      "1:\tlearn: 0.6611582\ttotal: 48.7ms\tremaining: 439ms\n",
      "2:\tlearn: 0.6565769\ttotal: 73.1ms\tremaining: 414ms\n",
      "3:\tlearn: 0.6540012\ttotal: 99.7ms\tremaining: 399ms\n",
      "4:\tlearn: 0.6530912\ttotal: 126ms\tremaining: 377ms\n",
      "5:\tlearn: 0.6520175\ttotal: 153ms\tremaining: 356ms\n",
      "6:\tlearn: 0.6505962\ttotal: 181ms\tremaining: 336ms\n",
      "7:\tlearn: 0.6491118\ttotal: 202ms\tremaining: 304ms\n",
      "8:\tlearn: 0.6485337\ttotal: 224ms\tremaining: 274ms\n",
      "9:\tlearn: 0.6479776\ttotal: 245ms\tremaining: 245ms\n",
      "10:\tlearn: 0.6475573\ttotal: 265ms\tremaining: 217ms\n",
      "11:\tlearn: 0.6471145\ttotal: 285ms\tremaining: 190ms\n",
      "12:\tlearn: 0.6465712\ttotal: 305ms\tremaining: 164ms\n",
      "13:\tlearn: 0.6461723\ttotal: 325ms\tremaining: 139ms\n",
      "14:\tlearn: 0.6458299\ttotal: 344ms\tremaining: 115ms\n",
      "15:\tlearn: 0.6457143\ttotal: 363ms\tremaining: 90.6ms\n",
      "16:\tlearn: 0.6452433\ttotal: 385ms\tremaining: 68ms\n",
      "17:\tlearn: 0.6450556\ttotal: 406ms\tremaining: 45.1ms\n",
      "18:\tlearn: 0.6449379\ttotal: 427ms\tremaining: 22.5ms\n",
      "19:\tlearn: 0.6444971\ttotal: 454ms\tremaining: 0us\n",
      "Learning rate set to 0.5\n",
      "0:\tlearn: 0.6677260\ttotal: 35.1ms\tremaining: 1.37s\n",
      "1:\tlearn: 0.6601089\ttotal: 70.7ms\tremaining: 1.34s\n",
      "2:\tlearn: 0.6551846\ttotal: 103ms\tremaining: 1.27s\n",
      "3:\tlearn: 0.6529684\ttotal: 135ms\tremaining: 1.21s\n",
      "4:\tlearn: 0.6517096\ttotal: 156ms\tremaining: 1.09s\n",
      "5:\tlearn: 0.6507048\ttotal: 178ms\tremaining: 1.01s\n",
      "6:\tlearn: 0.6490232\ttotal: 200ms\tremaining: 944ms\n",
      "7:\tlearn: 0.6485125\ttotal: 220ms\tremaining: 880ms\n",
      "8:\tlearn: 0.6477476\ttotal: 244ms\tremaining: 839ms\n",
      "9:\tlearn: 0.6472104\ttotal: 265ms\tremaining: 796ms\n",
      "10:\tlearn: 0.6465088\ttotal: 287ms\tremaining: 756ms\n",
      "11:\tlearn: 0.6461519\ttotal: 311ms\tremaining: 725ms\n",
      "12:\tlearn: 0.6459356\ttotal: 334ms\tremaining: 693ms\n",
      "13:\tlearn: 0.6456032\ttotal: 355ms\tremaining: 659ms\n",
      "14:\tlearn: 0.6453975\ttotal: 377ms\tremaining: 628ms\n",
      "15:\tlearn: 0.6448223\ttotal: 400ms\tremaining: 600ms\n",
      "16:\tlearn: 0.6444458\ttotal: 422ms\tremaining: 571ms\n",
      "17:\tlearn: 0.6440234\ttotal: 445ms\tremaining: 544ms\n",
      "18:\tlearn: 0.6436325\ttotal: 466ms\tremaining: 515ms\n",
      "19:\tlearn: 0.6434260\ttotal: 485ms\tremaining: 485ms\n",
      "20:\tlearn: 0.6430701\ttotal: 507ms\tremaining: 459ms\n",
      "21:\tlearn: 0.6426461\ttotal: 531ms\tremaining: 434ms\n",
      "22:\tlearn: 0.6424449\ttotal: 560ms\tremaining: 414ms\n",
      "23:\tlearn: 0.6422432\ttotal: 587ms\tremaining: 391ms\n",
      "24:\tlearn: 0.6420101\ttotal: 614ms\tremaining: 369ms\n",
      "25:\tlearn: 0.6416855\ttotal: 638ms\tremaining: 344ms\n",
      "26:\tlearn: 0.6414151\ttotal: 662ms\tremaining: 319ms\n",
      "27:\tlearn: 0.6412458\ttotal: 690ms\tremaining: 296ms\n",
      "28:\tlearn: 0.6405739\ttotal: 719ms\tremaining: 273ms\n",
      "29:\tlearn: 0.6404209\ttotal: 742ms\tremaining: 247ms\n",
      "30:\tlearn: 0.6401357\ttotal: 762ms\tremaining: 221ms\n",
      "31:\tlearn: 0.6397135\ttotal: 782ms\tremaining: 195ms\n",
      "32:\tlearn: 0.6393704\ttotal: 802ms\tremaining: 170ms\n",
      "33:\tlearn: 0.6390503\ttotal: 826ms\tremaining: 146ms\n",
      "34:\tlearn: 0.6387113\ttotal: 848ms\tremaining: 121ms\n",
      "35:\tlearn: 0.6384798\ttotal: 871ms\tremaining: 96.8ms\n",
      "36:\tlearn: 0.6383104\ttotal: 891ms\tremaining: 72.2ms\n",
      "37:\tlearn: 0.6379768\ttotal: 911ms\tremaining: 48ms\n",
      "38:\tlearn: 0.6378483\ttotal: 929ms\tremaining: 23.8ms\n",
      "39:\tlearn: 0.6377291\ttotal: 948ms\tremaining: 0us\n",
      "Learning rate set to 0.5\n",
      "0:\tlearn: 0.6673667\ttotal: 41.4ms\tremaining: 1.61s\n",
      "1:\tlearn: 0.6603268\ttotal: 77ms\tremaining: 1.46s\n",
      "2:\tlearn: 0.6549256\ttotal: 108ms\tremaining: 1.33s\n",
      "3:\tlearn: 0.6522294\ttotal: 131ms\tremaining: 1.18s\n",
      "4:\tlearn: 0.6509700\ttotal: 151ms\tremaining: 1.06s\n",
      "5:\tlearn: 0.6496561\ttotal: 174ms\tremaining: 989ms\n",
      "6:\tlearn: 0.6486230\ttotal: 195ms\tremaining: 921ms\n",
      "7:\tlearn: 0.6477482\ttotal: 219ms\tremaining: 877ms\n",
      "8:\tlearn: 0.6470392\ttotal: 241ms\tremaining: 830ms\n",
      "9:\tlearn: 0.6464221\ttotal: 260ms\tremaining: 781ms\n",
      "10:\tlearn: 0.6457445\ttotal: 279ms\tremaining: 735ms\n",
      "11:\tlearn: 0.6451583\ttotal: 298ms\tremaining: 696ms\n",
      "12:\tlearn: 0.6447407\ttotal: 317ms\tremaining: 659ms\n",
      "13:\tlearn: 0.6443623\ttotal: 339ms\tremaining: 629ms\n",
      "14:\tlearn: 0.6439893\ttotal: 360ms\tremaining: 601ms\n",
      "15:\tlearn: 0.6438104\ttotal: 382ms\tremaining: 573ms\n",
      "16:\tlearn: 0.6432394\ttotal: 404ms\tremaining: 546ms\n",
      "17:\tlearn: 0.6428918\ttotal: 425ms\tremaining: 520ms\n",
      "18:\tlearn: 0.6425766\ttotal: 444ms\tremaining: 491ms\n",
      "19:\tlearn: 0.6424058\ttotal: 464ms\tremaining: 464ms\n",
      "20:\tlearn: 0.6422599\ttotal: 483ms\tremaining: 437ms\n",
      "21:\tlearn: 0.6418749\ttotal: 503ms\tremaining: 412ms\n",
      "22:\tlearn: 0.6415391\ttotal: 523ms\tremaining: 387ms\n",
      "23:\tlearn: 0.6412939\ttotal: 543ms\tremaining: 362ms\n",
      "24:\tlearn: 0.6411919\ttotal: 561ms\tremaining: 337ms\n"
     ]
    },
    {
     "name": "stdout",
     "output_type": "stream",
     "text": [
      "25:\tlearn: 0.6408759\ttotal: 584ms\tremaining: 314ms\n",
      "26:\tlearn: 0.6404803\ttotal: 605ms\tremaining: 291ms\n",
      "27:\tlearn: 0.6402747\ttotal: 626ms\tremaining: 268ms\n",
      "28:\tlearn: 0.6399444\ttotal: 646ms\tremaining: 245ms\n",
      "29:\tlearn: 0.6391803\ttotal: 670ms\tremaining: 223ms\n",
      "30:\tlearn: 0.6389531\ttotal: 691ms\tremaining: 201ms\n",
      "31:\tlearn: 0.6381695\ttotal: 714ms\tremaining: 178ms\n",
      "32:\tlearn: 0.6378426\ttotal: 735ms\tremaining: 156ms\n",
      "33:\tlearn: 0.6375188\ttotal: 755ms\tremaining: 133ms\n",
      "34:\tlearn: 0.6373692\ttotal: 773ms\tremaining: 110ms\n",
      "35:\tlearn: 0.6372853\ttotal: 795ms\tremaining: 88.3ms\n",
      "36:\tlearn: 0.6369523\ttotal: 818ms\tremaining: 66.3ms\n",
      "37:\tlearn: 0.6368064\ttotal: 837ms\tremaining: 44ms\n",
      "38:\tlearn: 0.6364039\ttotal: 859ms\tremaining: 22ms\n",
      "39:\tlearn: 0.6363313\ttotal: 878ms\tremaining: 0us\n",
      "Learning rate set to 0.5\n",
      "0:\tlearn: 0.6683380\ttotal: 29.1ms\tremaining: 1.14s\n",
      "1:\tlearn: 0.6609714\ttotal: 54.8ms\tremaining: 1.04s\n",
      "2:\tlearn: 0.6559295\ttotal: 79.6ms\tremaining: 981ms\n",
      "3:\tlearn: 0.6534268\ttotal: 104ms\tremaining: 934ms\n",
      "4:\tlearn: 0.6525728\ttotal: 130ms\tremaining: 913ms\n",
      "5:\tlearn: 0.6512289\ttotal: 158ms\tremaining: 897ms\n",
      "6:\tlearn: 0.6502326\ttotal: 188ms\tremaining: 886ms\n",
      "7:\tlearn: 0.6494106\ttotal: 213ms\tremaining: 854ms\n",
      "8:\tlearn: 0.6489575\ttotal: 233ms\tremaining: 801ms\n",
      "9:\tlearn: 0.6481801\ttotal: 251ms\tremaining: 752ms\n",
      "10:\tlearn: 0.6479326\ttotal: 269ms\tremaining: 708ms\n",
      "11:\tlearn: 0.6473682\ttotal: 288ms\tremaining: 671ms\n",
      "12:\tlearn: 0.6472280\ttotal: 306ms\tremaining: 635ms\n",
      "13:\tlearn: 0.6469861\ttotal: 325ms\tremaining: 604ms\n",
      "14:\tlearn: 0.6464377\ttotal: 344ms\tremaining: 574ms\n",
      "15:\tlearn: 0.6459721\ttotal: 364ms\tremaining: 546ms\n",
      "16:\tlearn: 0.6457513\ttotal: 382ms\tremaining: 517ms\n",
      "17:\tlearn: 0.6453737\ttotal: 406ms\tremaining: 496ms\n",
      "18:\tlearn: 0.6452690\ttotal: 426ms\tremaining: 471ms\n",
      "19:\tlearn: 0.6449602\ttotal: 449ms\tremaining: 449ms\n",
      "20:\tlearn: 0.6447891\ttotal: 469ms\tremaining: 424ms\n",
      "21:\tlearn: 0.6443762\ttotal: 492ms\tremaining: 402ms\n",
      "22:\tlearn: 0.6440982\ttotal: 514ms\tremaining: 380ms\n",
      "23:\tlearn: 0.6437627\ttotal: 535ms\tremaining: 357ms\n",
      "24:\tlearn: 0.6435957\ttotal: 557ms\tremaining: 334ms\n",
      "25:\tlearn: 0.6431395\ttotal: 583ms\tremaining: 314ms\n",
      "26:\tlearn: 0.6429255\ttotal: 613ms\tremaining: 295ms\n",
      "27:\tlearn: 0.6424571\ttotal: 638ms\tremaining: 274ms\n",
      "28:\tlearn: 0.6423111\ttotal: 665ms\tremaining: 252ms\n",
      "29:\tlearn: 0.6414134\ttotal: 695ms\tremaining: 232ms\n",
      "30:\tlearn: 0.6411650\ttotal: 723ms\tremaining: 210ms\n",
      "31:\tlearn: 0.6408231\ttotal: 751ms\tremaining: 188ms\n",
      "32:\tlearn: 0.6406960\ttotal: 781ms\tremaining: 166ms\n",
      "33:\tlearn: 0.6405403\ttotal: 810ms\tremaining: 143ms\n",
      "34:\tlearn: 0.6403459\ttotal: 836ms\tremaining: 119ms\n",
      "35:\tlearn: 0.6402312\ttotal: 859ms\tremaining: 95.5ms\n",
      "36:\tlearn: 0.6397409\ttotal: 882ms\tremaining: 71.5ms\n",
      "37:\tlearn: 0.6391464\ttotal: 903ms\tremaining: 47.5ms\n",
      "38:\tlearn: 0.6390777\ttotal: 922ms\tremaining: 23.7ms\n",
      "39:\tlearn: 0.6389602\ttotal: 941ms\tremaining: 0us\n",
      "Learning rate set to 0.5\n",
      "0:\tlearn: 0.6679448\ttotal: 30.7ms\tremaining: 1.2s\n",
      "1:\tlearn: 0.6603831\ttotal: 58.5ms\tremaining: 1.11s\n",
      "2:\tlearn: 0.6556356\ttotal: 87.7ms\tremaining: 1.08s\n",
      "3:\tlearn: 0.6534991\ttotal: 117ms\tremaining: 1.05s\n",
      "4:\tlearn: 0.6522605\ttotal: 145ms\tremaining: 1.01s\n",
      "5:\tlearn: 0.6514144\ttotal: 175ms\tremaining: 992ms\n",
      "6:\tlearn: 0.6506445\ttotal: 204ms\tremaining: 961ms\n",
      "7:\tlearn: 0.6490907\ttotal: 229ms\tremaining: 915ms\n",
      "8:\tlearn: 0.6484124\ttotal: 254ms\tremaining: 876ms\n",
      "9:\tlearn: 0.6479374\ttotal: 279ms\tremaining: 838ms\n",
      "10:\tlearn: 0.6471607\ttotal: 301ms\tremaining: 793ms\n",
      "11:\tlearn: 0.6467928\ttotal: 321ms\tremaining: 748ms\n",
      "12:\tlearn: 0.6462982\ttotal: 343ms\tremaining: 711ms\n",
      "13:\tlearn: 0.6457908\ttotal: 365ms\tremaining: 678ms\n",
      "14:\tlearn: 0.6454349\ttotal: 387ms\tremaining: 645ms\n",
      "15:\tlearn: 0.6450029\ttotal: 411ms\tremaining: 616ms\n",
      "16:\tlearn: 0.6448096\ttotal: 432ms\tremaining: 585ms\n",
      "17:\tlearn: 0.6441636\ttotal: 456ms\tremaining: 558ms\n",
      "18:\tlearn: 0.6439421\ttotal: 477ms\tremaining: 527ms\n",
      "19:\tlearn: 0.6438182\ttotal: 497ms\tremaining: 497ms\n",
      "20:\tlearn: 0.6436445\ttotal: 517ms\tremaining: 468ms\n",
      "21:\tlearn: 0.6433764\ttotal: 538ms\tremaining: 440ms\n",
      "22:\tlearn: 0.6429197\ttotal: 559ms\tremaining: 413ms\n",
      "23:\tlearn: 0.6425543\ttotal: 583ms\tremaining: 388ms\n",
      "24:\tlearn: 0.6421631\ttotal: 608ms\tremaining: 365ms\n",
      "25:\tlearn: 0.6418764\ttotal: 631ms\tremaining: 340ms\n",
      "26:\tlearn: 0.6415715\ttotal: 651ms\tremaining: 313ms\n",
      "27:\tlearn: 0.6413461\ttotal: 669ms\tremaining: 287ms\n",
      "28:\tlearn: 0.6408110\ttotal: 689ms\tremaining: 261ms\n",
      "29:\tlearn: 0.6406820\ttotal: 707ms\tremaining: 236ms\n",
      "30:\tlearn: 0.6404492\ttotal: 727ms\tremaining: 211ms\n",
      "31:\tlearn: 0.6400671\ttotal: 746ms\tremaining: 187ms\n",
      "32:\tlearn: 0.6397030\ttotal: 766ms\tremaining: 162ms\n",
      "33:\tlearn: 0.6392867\ttotal: 786ms\tremaining: 139ms\n",
      "34:\tlearn: 0.6390286\ttotal: 808ms\tremaining: 115ms\n",
      "35:\tlearn: 0.6388668\ttotal: 831ms\tremaining: 92.4ms\n",
      "36:\tlearn: 0.6386335\ttotal: 852ms\tremaining: 69.1ms\n",
      "37:\tlearn: 0.6383974\ttotal: 874ms\tremaining: 46ms\n",
      "38:\tlearn: 0.6382684\ttotal: 894ms\tremaining: 22.9ms\n",
      "39:\tlearn: 0.6379819\ttotal: 920ms\tremaining: 0us\n",
      "Learning rate set to 0.5\n",
      "0:\tlearn: 0.6685108\ttotal: 30.2ms\tremaining: 1.18s\n",
      "1:\tlearn: 0.6611582\ttotal: 58ms\tremaining: 1.1s\n",
      "2:\tlearn: 0.6565769\ttotal: 83.8ms\tremaining: 1.03s\n",
      "3:\tlearn: 0.6540012\ttotal: 112ms\tremaining: 1s\n",
      "4:\tlearn: 0.6530912\ttotal: 138ms\tremaining: 964ms\n",
      "5:\tlearn: 0.6520175\ttotal: 165ms\tremaining: 934ms\n",
      "6:\tlearn: 0.6505962\ttotal: 195ms\tremaining: 918ms\n",
      "7:\tlearn: 0.6491118\ttotal: 222ms\tremaining: 888ms\n",
      "8:\tlearn: 0.6485337\ttotal: 248ms\tremaining: 855ms\n",
      "9:\tlearn: 0.6479776\ttotal: 267ms\tremaining: 801ms\n",
      "10:\tlearn: 0.6475573\ttotal: 288ms\tremaining: 759ms\n",
      "11:\tlearn: 0.6471145\ttotal: 310ms\tremaining: 723ms\n",
      "12:\tlearn: 0.6465712\ttotal: 331ms\tremaining: 688ms\n",
      "13:\tlearn: 0.6461723\ttotal: 352ms\tremaining: 653ms\n",
      "14:\tlearn: 0.6458299\ttotal: 372ms\tremaining: 620ms\n",
      "15:\tlearn: 0.6457143\ttotal: 395ms\tremaining: 593ms\n",
      "16:\tlearn: 0.6452433\ttotal: 419ms\tremaining: 567ms\n",
      "17:\tlearn: 0.6450556\ttotal: 440ms\tremaining: 538ms\n",
      "18:\tlearn: 0.6449379\ttotal: 461ms\tremaining: 510ms\n",
      "19:\tlearn: 0.6444971\ttotal: 484ms\tremaining: 484ms\n",
      "20:\tlearn: 0.6440720\ttotal: 507ms\tremaining: 458ms\n",
      "21:\tlearn: 0.6439249\ttotal: 528ms\tremaining: 432ms\n",
      "22:\tlearn: 0.6433707\ttotal: 550ms\tremaining: 406ms\n",
      "23:\tlearn: 0.6429861\ttotal: 573ms\tremaining: 382ms\n",
      "24:\tlearn: 0.6426766\ttotal: 596ms\tremaining: 358ms\n",
      "25:\tlearn: 0.6424302\ttotal: 619ms\tremaining: 333ms\n",
      "26:\tlearn: 0.6420979\ttotal: 645ms\tremaining: 310ms\n",
      "27:\tlearn: 0.6418907\ttotal: 667ms\tremaining: 286ms\n",
      "28:\tlearn: 0.6415958\ttotal: 689ms\tremaining: 261ms\n",
      "29:\tlearn: 0.6411461\ttotal: 710ms\tremaining: 237ms\n",
      "30:\tlearn: 0.6408250\ttotal: 733ms\tremaining: 213ms\n",
      "31:\tlearn: 0.6406465\ttotal: 754ms\tremaining: 189ms\n",
      "32:\tlearn: 0.6404609\ttotal: 775ms\tremaining: 164ms\n",
      "33:\tlearn: 0.6401925\ttotal: 799ms\tremaining: 141ms\n",
      "34:\tlearn: 0.6399360\ttotal: 823ms\tremaining: 118ms\n",
      "35:\tlearn: 0.6398296\ttotal: 845ms\tremaining: 93.8ms\n",
      "36:\tlearn: 0.6396987\ttotal: 867ms\tremaining: 70.3ms\n",
      "37:\tlearn: 0.6394722\ttotal: 890ms\tremaining: 46.9ms\n",
      "38:\tlearn: 0.6393611\ttotal: 910ms\tremaining: 23.3ms\n",
      "39:\tlearn: 0.6387997\ttotal: 932ms\tremaining: 0us\n",
      "Learning rate set to 0.5\n",
      "0:\tlearn: 0.6658701\ttotal: 34.8ms\tremaining: 660ms\n",
      "1:\tlearn: 0.6571845\ttotal: 71.3ms\tremaining: 641ms\n",
      "2:\tlearn: 0.6520675\ttotal: 105ms\tremaining: 592ms\n",
      "3:\tlearn: 0.6502800\ttotal: 137ms\tremaining: 546ms\n",
      "4:\tlearn: 0.6485125\ttotal: 163ms\tremaining: 490ms\n",
      "5:\tlearn: 0.6475881\ttotal: 194ms\tremaining: 454ms\n",
      "6:\tlearn: 0.6465334\ttotal: 220ms\tremaining: 409ms\n",
      "7:\tlearn: 0.6452002\ttotal: 244ms\tremaining: 366ms\n",
      "8:\tlearn: 0.6445629\ttotal: 267ms\tremaining: 326ms\n",
      "9:\tlearn: 0.6437087\ttotal: 291ms\tremaining: 291ms\n",
      "10:\tlearn: 0.6429340\ttotal: 316ms\tremaining: 258ms\n",
      "11:\tlearn: 0.6420654\ttotal: 342ms\tremaining: 228ms\n",
      "12:\tlearn: 0.6418260\ttotal: 364ms\tremaining: 196ms\n",
      "13:\tlearn: 0.6412910\ttotal: 388ms\tremaining: 166ms\n",
      "14:\tlearn: 0.6409396\ttotal: 415ms\tremaining: 138ms\n",
      "15:\tlearn: 0.6401759\ttotal: 443ms\tremaining: 111ms\n",
      "16:\tlearn: 0.6400465\ttotal: 469ms\tremaining: 82.7ms\n",
      "17:\tlearn: 0.6393709\ttotal: 492ms\tremaining: 54.7ms\n",
      "18:\tlearn: 0.6388619\ttotal: 517ms\tremaining: 27.2ms\n",
      "19:\tlearn: 0.6380851\ttotal: 548ms\tremaining: 0us\n",
      "Learning rate set to 0.5\n",
      "0:\tlearn: 0.6654987\ttotal: 31.3ms\tremaining: 595ms\n",
      "1:\tlearn: 0.6571485\ttotal: 57.6ms\tremaining: 518ms\n",
      "2:\tlearn: 0.6514027\ttotal: 86.7ms\tremaining: 491ms\n",
      "3:\tlearn: 0.6487078\ttotal: 115ms\tremaining: 461ms\n",
      "4:\tlearn: 0.6475245\ttotal: 141ms\tremaining: 424ms\n",
      "5:\tlearn: 0.6468501\ttotal: 169ms\tremaining: 395ms\n"
     ]
    },
    {
     "name": "stdout",
     "output_type": "stream",
     "text": [
      "6:\tlearn: 0.6452008\ttotal: 203ms\tremaining: 378ms\n",
      "7:\tlearn: 0.6439440\ttotal: 231ms\tremaining: 347ms\n",
      "8:\tlearn: 0.6433285\ttotal: 257ms\tremaining: 314ms\n",
      "9:\tlearn: 0.6422183\ttotal: 291ms\tremaining: 291ms\n",
      "10:\tlearn: 0.6415390\ttotal: 324ms\tremaining: 265ms\n",
      "11:\tlearn: 0.6408034\ttotal: 356ms\tremaining: 238ms\n",
      "12:\tlearn: 0.6401665\ttotal: 390ms\tremaining: 210ms\n",
      "13:\tlearn: 0.6393826\ttotal: 423ms\tremaining: 181ms\n",
      "14:\tlearn: 0.6390608\ttotal: 451ms\tremaining: 150ms\n",
      "15:\tlearn: 0.6387454\ttotal: 476ms\tremaining: 119ms\n",
      "16:\tlearn: 0.6384021\ttotal: 500ms\tremaining: 88.3ms\n",
      "17:\tlearn: 0.6382181\ttotal: 523ms\tremaining: 58.2ms\n",
      "18:\tlearn: 0.6379166\ttotal: 549ms\tremaining: 28.9ms\n",
      "19:\tlearn: 0.6374246\ttotal: 571ms\tremaining: 0us\n",
      "Learning rate set to 0.5\n",
      "0:\tlearn: 0.6671916\ttotal: 36.6ms\tremaining: 695ms\n",
      "1:\tlearn: 0.6591400\ttotal: 69.6ms\tremaining: 626ms\n",
      "2:\tlearn: 0.6536154\ttotal: 103ms\tremaining: 586ms\n",
      "3:\tlearn: 0.6511442\ttotal: 136ms\tremaining: 545ms\n",
      "4:\tlearn: 0.6498226\ttotal: 165ms\tremaining: 494ms\n",
      "5:\tlearn: 0.6485365\ttotal: 195ms\tremaining: 456ms\n",
      "6:\tlearn: 0.6475870\ttotal: 224ms\tremaining: 415ms\n",
      "7:\tlearn: 0.6462469\ttotal: 250ms\tremaining: 375ms\n",
      "8:\tlearn: 0.6456235\ttotal: 276ms\tremaining: 337ms\n",
      "9:\tlearn: 0.6449359\ttotal: 301ms\tremaining: 301ms\n",
      "10:\tlearn: 0.6444436\ttotal: 327ms\tremaining: 267ms\n",
      "11:\tlearn: 0.6437220\ttotal: 351ms\tremaining: 234ms\n",
      "12:\tlearn: 0.6434920\ttotal: 375ms\tremaining: 202ms\n",
      "13:\tlearn: 0.6429792\ttotal: 403ms\tremaining: 173ms\n",
      "14:\tlearn: 0.6425500\ttotal: 428ms\tremaining: 143ms\n",
      "15:\tlearn: 0.6421478\ttotal: 451ms\tremaining: 113ms\n",
      "16:\tlearn: 0.6417956\ttotal: 475ms\tremaining: 83.9ms\n",
      "17:\tlearn: 0.6413450\ttotal: 499ms\tremaining: 55.4ms\n",
      "18:\tlearn: 0.6409914\ttotal: 523ms\tremaining: 27.5ms\n",
      "19:\tlearn: 0.6405338\ttotal: 545ms\tremaining: 0us\n",
      "Learning rate set to 0.5\n",
      "0:\tlearn: 0.6659859\ttotal: 32.8ms\tremaining: 623ms\n",
      "1:\tlearn: 0.6577664\ttotal: 64ms\tremaining: 576ms\n",
      "2:\tlearn: 0.6523676\ttotal: 95.1ms\tremaining: 539ms\n",
      "3:\tlearn: 0.6509726\ttotal: 125ms\tremaining: 501ms\n",
      "4:\tlearn: 0.6494437\ttotal: 154ms\tremaining: 462ms\n",
      "5:\tlearn: 0.6489676\ttotal: 179ms\tremaining: 418ms\n",
      "6:\tlearn: 0.6472771\ttotal: 212ms\tremaining: 394ms\n",
      "7:\tlearn: 0.6469301\ttotal: 240ms\tremaining: 359ms\n",
      "8:\tlearn: 0.6458358\ttotal: 270ms\tremaining: 330ms\n",
      "9:\tlearn: 0.6450814\ttotal: 298ms\tremaining: 298ms\n",
      "10:\tlearn: 0.6446481\ttotal: 327ms\tremaining: 268ms\n",
      "11:\tlearn: 0.6438296\ttotal: 359ms\tremaining: 239ms\n",
      "12:\tlearn: 0.6434182\ttotal: 381ms\tremaining: 205ms\n",
      "13:\tlearn: 0.6430556\ttotal: 403ms\tremaining: 173ms\n",
      "14:\tlearn: 0.6427169\ttotal: 428ms\tremaining: 143ms\n",
      "15:\tlearn: 0.6421308\ttotal: 456ms\tremaining: 114ms\n",
      "16:\tlearn: 0.6418794\ttotal: 480ms\tremaining: 84.7ms\n",
      "17:\tlearn: 0.6405595\ttotal: 507ms\tremaining: 56.4ms\n",
      "18:\tlearn: 0.6399186\ttotal: 538ms\tremaining: 28.3ms\n",
      "19:\tlearn: 0.6383012\ttotal: 568ms\tremaining: 0us\n",
      "Learning rate set to 0.5\n",
      "0:\tlearn: 0.6672987\ttotal: 33.2ms\tremaining: 631ms\n",
      "1:\tlearn: 0.6591801\ttotal: 62.6ms\tremaining: 563ms\n",
      "2:\tlearn: 0.6537270\ttotal: 96.6ms\tremaining: 547ms\n",
      "3:\tlearn: 0.6514815\ttotal: 128ms\tremaining: 511ms\n",
      "4:\tlearn: 0.6501565\ttotal: 154ms\tremaining: 461ms\n",
      "5:\tlearn: 0.6492998\ttotal: 182ms\tremaining: 424ms\n",
      "6:\tlearn: 0.6474580\ttotal: 213ms\tremaining: 395ms\n",
      "7:\tlearn: 0.6465647\ttotal: 240ms\tremaining: 360ms\n",
      "8:\tlearn: 0.6460008\ttotal: 261ms\tremaining: 319ms\n",
      "9:\tlearn: 0.6454656\ttotal: 282ms\tremaining: 282ms\n",
      "10:\tlearn: 0.6438826\ttotal: 304ms\tremaining: 249ms\n",
      "11:\tlearn: 0.6432723\ttotal: 326ms\tremaining: 217ms\n",
      "12:\tlearn: 0.6428189\ttotal: 347ms\tremaining: 187ms\n",
      "13:\tlearn: 0.6421671\ttotal: 367ms\tremaining: 157ms\n",
      "14:\tlearn: 0.6415796\ttotal: 389ms\tremaining: 130ms\n",
      "15:\tlearn: 0.6411968\ttotal: 414ms\tremaining: 104ms\n",
      "16:\tlearn: 0.6409835\ttotal: 437ms\tremaining: 77.2ms\n",
      "17:\tlearn: 0.6407194\ttotal: 457ms\tremaining: 50.8ms\n",
      "18:\tlearn: 0.6404021\ttotal: 478ms\tremaining: 25.2ms\n",
      "19:\tlearn: 0.6397674\ttotal: 499ms\tremaining: 0us\n",
      "Learning rate set to 0.5\n",
      "0:\tlearn: 0.6658701\ttotal: 41.5ms\tremaining: 1.62s\n",
      "1:\tlearn: 0.6571845\ttotal: 77.1ms\tremaining: 1.46s\n",
      "2:\tlearn: 0.6520675\ttotal: 113ms\tremaining: 1.4s\n",
      "3:\tlearn: 0.6502800\ttotal: 146ms\tremaining: 1.31s\n",
      "4:\tlearn: 0.6485125\ttotal: 167ms\tremaining: 1.17s\n",
      "5:\tlearn: 0.6475881\ttotal: 191ms\tremaining: 1.08s\n",
      "6:\tlearn: 0.6465334\ttotal: 216ms\tremaining: 1.02s\n",
      "7:\tlearn: 0.6452002\ttotal: 240ms\tremaining: 958ms\n",
      "8:\tlearn: 0.6445629\ttotal: 260ms\tremaining: 895ms\n",
      "9:\tlearn: 0.6437087\ttotal: 281ms\tremaining: 842ms\n",
      "10:\tlearn: 0.6429340\ttotal: 304ms\tremaining: 801ms\n",
      "11:\tlearn: 0.6420654\ttotal: 327ms\tremaining: 763ms\n",
      "12:\tlearn: 0.6418260\ttotal: 348ms\tremaining: 722ms\n",
      "13:\tlearn: 0.6412910\ttotal: 368ms\tremaining: 683ms\n",
      "14:\tlearn: 0.6409396\ttotal: 393ms\tremaining: 655ms\n",
      "15:\tlearn: 0.6401759\ttotal: 420ms\tremaining: 630ms\n",
      "16:\tlearn: 0.6400465\ttotal: 443ms\tremaining: 600ms\n",
      "17:\tlearn: 0.6393709\ttotal: 465ms\tremaining: 568ms\n",
      "18:\tlearn: 0.6388619\ttotal: 486ms\tremaining: 538ms\n",
      "19:\tlearn: 0.6380851\ttotal: 510ms\tremaining: 510ms\n",
      "20:\tlearn: 0.6366335\ttotal: 532ms\tremaining: 481ms\n",
      "21:\tlearn: 0.6361305\ttotal: 554ms\tremaining: 453ms\n",
      "22:\tlearn: 0.6358648\ttotal: 574ms\tremaining: 424ms\n",
      "23:\tlearn: 0.6355375\ttotal: 601ms\tremaining: 400ms\n",
      "24:\tlearn: 0.6350106\ttotal: 626ms\tremaining: 376ms\n",
      "25:\tlearn: 0.6346091\ttotal: 649ms\tremaining: 349ms\n",
      "26:\tlearn: 0.6341289\ttotal: 673ms\tremaining: 324ms\n",
      "27:\tlearn: 0.6338738\ttotal: 695ms\tremaining: 298ms\n",
      "28:\tlearn: 0.6335394\ttotal: 715ms\tremaining: 271ms\n",
      "29:\tlearn: 0.6333070\ttotal: 736ms\tremaining: 245ms\n",
      "30:\tlearn: 0.6331319\ttotal: 760ms\tremaining: 221ms\n",
      "31:\tlearn: 0.6328644\ttotal: 782ms\tremaining: 196ms\n",
      "32:\tlearn: 0.6327888\ttotal: 806ms\tremaining: 171ms\n",
      "33:\tlearn: 0.6324804\ttotal: 832ms\tremaining: 147ms\n",
      "34:\tlearn: 0.6323601\ttotal: 854ms\tremaining: 122ms\n",
      "35:\tlearn: 0.6319704\ttotal: 875ms\tremaining: 97.3ms\n",
      "36:\tlearn: 0.6317689\ttotal: 897ms\tremaining: 72.7ms\n",
      "37:\tlearn: 0.6314354\ttotal: 919ms\tremaining: 48.4ms\n",
      "38:\tlearn: 0.6311799\ttotal: 939ms\tremaining: 24.1ms\n",
      "39:\tlearn: 0.6309798\ttotal: 962ms\tremaining: 0us\n",
      "Learning rate set to 0.5\n",
      "0:\tlearn: 0.6654987\ttotal: 31.3ms\tremaining: 1.22s\n",
      "1:\tlearn: 0.6571485\ttotal: 57.2ms\tremaining: 1.09s\n",
      "2:\tlearn: 0.6514027\ttotal: 86.5ms\tremaining: 1.07s\n",
      "3:\tlearn: 0.6487078\ttotal: 116ms\tremaining: 1.04s\n",
      "4:\tlearn: 0.6475245\ttotal: 144ms\tremaining: 1.01s\n",
      "5:\tlearn: 0.6468501\ttotal: 172ms\tremaining: 973ms\n",
      "6:\tlearn: 0.6452008\ttotal: 203ms\tremaining: 957ms\n",
      "7:\tlearn: 0.6439440\ttotal: 232ms\tremaining: 926ms\n",
      "8:\tlearn: 0.6433285\ttotal: 254ms\tremaining: 875ms\n",
      "9:\tlearn: 0.6422183\ttotal: 276ms\tremaining: 827ms\n",
      "10:\tlearn: 0.6415390\ttotal: 297ms\tremaining: 783ms\n",
      "11:\tlearn: 0.6408034\ttotal: 318ms\tremaining: 743ms\n",
      "12:\tlearn: 0.6401665\ttotal: 342ms\tremaining: 710ms\n",
      "13:\tlearn: 0.6393826\ttotal: 366ms\tremaining: 679ms\n",
      "14:\tlearn: 0.6390608\ttotal: 389ms\tremaining: 648ms\n",
      "15:\tlearn: 0.6387454\ttotal: 414ms\tremaining: 621ms\n",
      "16:\tlearn: 0.6384021\ttotal: 441ms\tremaining: 596ms\n",
      "17:\tlearn: 0.6382181\ttotal: 467ms\tremaining: 571ms\n",
      "18:\tlearn: 0.6379166\ttotal: 495ms\tremaining: 547ms\n",
      "19:\tlearn: 0.6374246\ttotal: 520ms\tremaining: 520ms\n",
      "20:\tlearn: 0.6369653\ttotal: 544ms\tremaining: 492ms\n",
      "21:\tlearn: 0.6365992\ttotal: 566ms\tremaining: 463ms\n",
      "22:\tlearn: 0.6364275\ttotal: 589ms\tremaining: 436ms\n",
      "23:\tlearn: 0.6358336\ttotal: 616ms\tremaining: 411ms\n",
      "24:\tlearn: 0.6353828\ttotal: 643ms\tremaining: 386ms\n",
      "25:\tlearn: 0.6351147\ttotal: 670ms\tremaining: 361ms\n",
      "26:\tlearn: 0.6347601\ttotal: 697ms\tremaining: 336ms\n",
      "27:\tlearn: 0.6345494\ttotal: 723ms\tremaining: 310ms\n",
      "28:\tlearn: 0.6341700\ttotal: 747ms\tremaining: 283ms\n",
      "29:\tlearn: 0.6340426\ttotal: 770ms\tremaining: 257ms\n",
      "30:\tlearn: 0.6338117\ttotal: 792ms\tremaining: 230ms\n",
      "31:\tlearn: 0.6335450\ttotal: 818ms\tremaining: 204ms\n",
      "32:\tlearn: 0.6333091\ttotal: 847ms\tremaining: 180ms\n",
      "33:\tlearn: 0.6327516\ttotal: 874ms\tremaining: 154ms\n",
      "34:\tlearn: 0.6325215\ttotal: 898ms\tremaining: 128ms\n",
      "35:\tlearn: 0.6322324\ttotal: 922ms\tremaining: 102ms\n",
      "36:\tlearn: 0.6320414\ttotal: 946ms\tremaining: 76.7ms\n",
      "37:\tlearn: 0.6317367\ttotal: 969ms\tremaining: 51ms\n",
      "38:\tlearn: 0.6314259\ttotal: 995ms\tremaining: 25.5ms\n",
      "39:\tlearn: 0.6310926\ttotal: 1.02s\tremaining: 0us\n",
      "Learning rate set to 0.5\n",
      "0:\tlearn: 0.6671916\ttotal: 39.1ms\tremaining: 1.52s\n",
      "1:\tlearn: 0.6591400\ttotal: 73ms\tremaining: 1.39s\n",
      "2:\tlearn: 0.6536154\ttotal: 109ms\tremaining: 1.34s\n",
      "3:\tlearn: 0.6511442\ttotal: 145ms\tremaining: 1.3s\n",
      "4:\tlearn: 0.6498226\ttotal: 176ms\tremaining: 1.23s\n"
     ]
    },
    {
     "name": "stdout",
     "output_type": "stream",
     "text": [
      "5:\tlearn: 0.6485365\ttotal: 211ms\tremaining: 1.2s\n",
      "6:\tlearn: 0.6475870\ttotal: 237ms\tremaining: 1.11s\n",
      "7:\tlearn: 0.6462469\ttotal: 262ms\tremaining: 1.05s\n",
      "8:\tlearn: 0.6456235\ttotal: 288ms\tremaining: 992ms\n",
      "9:\tlearn: 0.6449359\ttotal: 313ms\tremaining: 938ms\n",
      "10:\tlearn: 0.6444436\ttotal: 337ms\tremaining: 889ms\n",
      "11:\tlearn: 0.6437220\ttotal: 360ms\tremaining: 839ms\n",
      "12:\tlearn: 0.6434920\ttotal: 385ms\tremaining: 800ms\n",
      "13:\tlearn: 0.6429792\ttotal: 410ms\tremaining: 761ms\n",
      "14:\tlearn: 0.6425500\ttotal: 435ms\tremaining: 725ms\n",
      "15:\tlearn: 0.6421478\ttotal: 464ms\tremaining: 696ms\n",
      "16:\tlearn: 0.6417956\ttotal: 490ms\tremaining: 662ms\n",
      "17:\tlearn: 0.6413450\ttotal: 513ms\tremaining: 627ms\n",
      "18:\tlearn: 0.6409914\ttotal: 535ms\tremaining: 591ms\n",
      "19:\tlearn: 0.6405338\ttotal: 557ms\tremaining: 557ms\n",
      "20:\tlearn: 0.6399659\ttotal: 579ms\tremaining: 524ms\n",
      "21:\tlearn: 0.6388407\ttotal: 601ms\tremaining: 492ms\n",
      "22:\tlearn: 0.6385826\ttotal: 623ms\tremaining: 460ms\n",
      "23:\tlearn: 0.6381756\ttotal: 650ms\tremaining: 433ms\n",
      "24:\tlearn: 0.6374171\ttotal: 675ms\tremaining: 405ms\n",
      "25:\tlearn: 0.6371516\ttotal: 698ms\tremaining: 376ms\n",
      "26:\tlearn: 0.6369483\ttotal: 720ms\tremaining: 347ms\n",
      "27:\tlearn: 0.6367743\ttotal: 743ms\tremaining: 318ms\n",
      "28:\tlearn: 0.6365268\ttotal: 765ms\tremaining: 290ms\n",
      "29:\tlearn: 0.6362077\ttotal: 789ms\tremaining: 263ms\n",
      "30:\tlearn: 0.6360396\ttotal: 814ms\tremaining: 236ms\n",
      "31:\tlearn: 0.6357664\ttotal: 839ms\tremaining: 210ms\n",
      "32:\tlearn: 0.6356386\ttotal: 862ms\tremaining: 183ms\n",
      "33:\tlearn: 0.6353008\ttotal: 888ms\tremaining: 157ms\n",
      "34:\tlearn: 0.6351217\ttotal: 908ms\tremaining: 130ms\n",
      "35:\tlearn: 0.6345939\ttotal: 932ms\tremaining: 104ms\n",
      "36:\tlearn: 0.6341881\ttotal: 955ms\tremaining: 77.5ms\n",
      "37:\tlearn: 0.6336885\ttotal: 978ms\tremaining: 51.5ms\n",
      "38:\tlearn: 0.6334904\ttotal: 999ms\tremaining: 25.6ms\n",
      "39:\tlearn: 0.6332845\ttotal: 1.02s\tremaining: 0us\n",
      "Learning rate set to 0.5\n",
      "0:\tlearn: 0.6659859\ttotal: 34.4ms\tremaining: 1.34s\n",
      "1:\tlearn: 0.6577664\ttotal: 66.3ms\tremaining: 1.26s\n",
      "2:\tlearn: 0.6523676\ttotal: 105ms\tremaining: 1.29s\n",
      "3:\tlearn: 0.6509726\ttotal: 143ms\tremaining: 1.28s\n",
      "4:\tlearn: 0.6494437\ttotal: 180ms\tremaining: 1.26s\n",
      "5:\tlearn: 0.6489676\ttotal: 209ms\tremaining: 1.19s\n",
      "6:\tlearn: 0.6472771\ttotal: 244ms\tremaining: 1.15s\n",
      "7:\tlearn: 0.6469301\ttotal: 271ms\tremaining: 1.08s\n",
      "8:\tlearn: 0.6458358\ttotal: 298ms\tremaining: 1.02s\n",
      "9:\tlearn: 0.6450814\ttotal: 320ms\tremaining: 961ms\n",
      "10:\tlearn: 0.6446481\ttotal: 343ms\tremaining: 904ms\n",
      "11:\tlearn: 0.6438296\ttotal: 369ms\tremaining: 860ms\n",
      "12:\tlearn: 0.6434182\ttotal: 394ms\tremaining: 819ms\n",
      "13:\tlearn: 0.6430556\ttotal: 420ms\tremaining: 779ms\n",
      "14:\tlearn: 0.6427169\ttotal: 442ms\tremaining: 737ms\n",
      "15:\tlearn: 0.6421308\ttotal: 466ms\tremaining: 699ms\n",
      "16:\tlearn: 0.6418794\ttotal: 491ms\tremaining: 665ms\n",
      "17:\tlearn: 0.6405595\ttotal: 516ms\tremaining: 631ms\n",
      "18:\tlearn: 0.6399186\ttotal: 539ms\tremaining: 595ms\n",
      "19:\tlearn: 0.6383012\ttotal: 560ms\tremaining: 560ms\n",
      "20:\tlearn: 0.6379128\ttotal: 581ms\tremaining: 526ms\n",
      "21:\tlearn: 0.6371727\ttotal: 607ms\tremaining: 497ms\n",
      "22:\tlearn: 0.6369028\ttotal: 632ms\tremaining: 467ms\n",
      "23:\tlearn: 0.6363538\ttotal: 654ms\tremaining: 436ms\n",
      "24:\tlearn: 0.6361586\ttotal: 675ms\tremaining: 405ms\n",
      "25:\tlearn: 0.6357796\ttotal: 695ms\tremaining: 374ms\n",
      "26:\tlearn: 0.6351330\ttotal: 718ms\tremaining: 345ms\n",
      "27:\tlearn: 0.6347519\ttotal: 738ms\tremaining: 316ms\n",
      "28:\tlearn: 0.6343425\ttotal: 760ms\tremaining: 288ms\n",
      "29:\tlearn: 0.6338468\ttotal: 782ms\tremaining: 261ms\n",
      "30:\tlearn: 0.6335720\ttotal: 808ms\tremaining: 235ms\n",
      "31:\tlearn: 0.6333851\ttotal: 835ms\tremaining: 209ms\n",
      "32:\tlearn: 0.6332427\ttotal: 858ms\tremaining: 182ms\n",
      "33:\tlearn: 0.6330614\ttotal: 879ms\tremaining: 155ms\n",
      "34:\tlearn: 0.6327937\ttotal: 903ms\tremaining: 129ms\n",
      "35:\tlearn: 0.6326141\ttotal: 924ms\tremaining: 103ms\n",
      "36:\tlearn: 0.6323164\ttotal: 945ms\tremaining: 76.6ms\n",
      "37:\tlearn: 0.6319552\ttotal: 968ms\tremaining: 50.9ms\n",
      "38:\tlearn: 0.6317250\ttotal: 993ms\tremaining: 25.5ms\n",
      "39:\tlearn: 0.6314459\ttotal: 1.02s\tremaining: 0us\n",
      "Learning rate set to 0.5\n",
      "0:\tlearn: 0.6672987\ttotal: 31.2ms\tremaining: 1.22s\n",
      "1:\tlearn: 0.6591801\ttotal: 58.9ms\tremaining: 1.12s\n",
      "2:\tlearn: 0.6537270\ttotal: 88.3ms\tremaining: 1.09s\n",
      "3:\tlearn: 0.6514815\ttotal: 121ms\tremaining: 1.09s\n",
      "4:\tlearn: 0.6501565\ttotal: 150ms\tremaining: 1.05s\n",
      "5:\tlearn: 0.6492998\ttotal: 182ms\tremaining: 1.03s\n",
      "6:\tlearn: 0.6474580\ttotal: 211ms\tremaining: 996ms\n",
      "7:\tlearn: 0.6465647\ttotal: 236ms\tremaining: 944ms\n",
      "8:\tlearn: 0.6460008\ttotal: 277ms\tremaining: 953ms\n",
      "9:\tlearn: 0.6454656\ttotal: 304ms\tremaining: 911ms\n",
      "10:\tlearn: 0.6438826\ttotal: 327ms\tremaining: 862ms\n",
      "11:\tlearn: 0.6432723\ttotal: 348ms\tremaining: 812ms\n",
      "12:\tlearn: 0.6428189\ttotal: 369ms\tremaining: 765ms\n",
      "13:\tlearn: 0.6421671\ttotal: 394ms\tremaining: 732ms\n",
      "14:\tlearn: 0.6415796\ttotal: 420ms\tremaining: 699ms\n",
      "15:\tlearn: 0.6411968\ttotal: 442ms\tremaining: 663ms\n",
      "16:\tlearn: 0.6409835\ttotal: 464ms\tremaining: 628ms\n",
      "17:\tlearn: 0.6407194\ttotal: 487ms\tremaining: 595ms\n",
      "18:\tlearn: 0.6404021\ttotal: 508ms\tremaining: 561ms\n",
      "19:\tlearn: 0.6397674\ttotal: 530ms\tremaining: 530ms\n",
      "20:\tlearn: 0.6388889\ttotal: 553ms\tremaining: 500ms\n",
      "21:\tlearn: 0.6384908\ttotal: 576ms\tremaining: 471ms\n",
      "22:\tlearn: 0.6382709\ttotal: 601ms\tremaining: 444ms\n",
      "23:\tlearn: 0.6379711\ttotal: 627ms\tremaining: 418ms\n",
      "24:\tlearn: 0.6376772\ttotal: 655ms\tremaining: 393ms\n",
      "25:\tlearn: 0.6372606\ttotal: 684ms\tremaining: 368ms\n",
      "26:\tlearn: 0.6370049\ttotal: 712ms\tremaining: 343ms\n",
      "27:\tlearn: 0.6367055\ttotal: 742ms\tremaining: 318ms\n",
      "28:\tlearn: 0.6364342\ttotal: 769ms\tremaining: 292ms\n",
      "29:\tlearn: 0.6358873\ttotal: 796ms\tremaining: 265ms\n",
      "30:\tlearn: 0.6356520\ttotal: 824ms\tremaining: 239ms\n",
      "31:\tlearn: 0.6355144\ttotal: 851ms\tremaining: 213ms\n",
      "32:\tlearn: 0.6349816\ttotal: 879ms\tremaining: 186ms\n",
      "33:\tlearn: 0.6348485\ttotal: 902ms\tremaining: 159ms\n",
      "34:\tlearn: 0.6346293\ttotal: 925ms\tremaining: 132ms\n",
      "35:\tlearn: 0.6343900\ttotal: 950ms\tremaining: 106ms\n",
      "36:\tlearn: 0.6341353\ttotal: 974ms\tremaining: 79ms\n",
      "37:\tlearn: 0.6339340\ttotal: 998ms\tremaining: 52.5ms\n",
      "38:\tlearn: 0.6334723\ttotal: 1.02s\tremaining: 26.3ms\n",
      "39:\tlearn: 0.6332636\ttotal: 1.05s\tremaining: 0us\n",
      "Learning rate set to 0.5\n",
      "0:\tlearn: 0.6644253\ttotal: 47.7ms\tremaining: 906ms\n",
      "1:\tlearn: 0.6556493\ttotal: 92.6ms\tremaining: 833ms\n",
      "2:\tlearn: 0.6517448\ttotal: 134ms\tremaining: 760ms\n",
      "3:\tlearn: 0.6492709\ttotal: 170ms\tremaining: 680ms\n",
      "4:\tlearn: 0.6473223\ttotal: 207ms\tremaining: 621ms\n",
      "5:\tlearn: 0.6455526\ttotal: 242ms\tremaining: 564ms\n",
      "6:\tlearn: 0.6439624\ttotal: 279ms\tremaining: 517ms\n",
      "7:\tlearn: 0.6432984\ttotal: 312ms\tremaining: 468ms\n",
      "8:\tlearn: 0.6422719\ttotal: 346ms\tremaining: 423ms\n",
      "9:\tlearn: 0.6416403\ttotal: 379ms\tremaining: 379ms\n",
      "10:\tlearn: 0.6408731\ttotal: 414ms\tremaining: 339ms\n",
      "11:\tlearn: 0.6394140\ttotal: 445ms\tremaining: 296ms\n",
      "12:\tlearn: 0.6387596\ttotal: 479ms\tremaining: 258ms\n",
      "13:\tlearn: 0.6377799\ttotal: 518ms\tremaining: 222ms\n",
      "14:\tlearn: 0.6372596\ttotal: 553ms\tremaining: 184ms\n",
      "15:\tlearn: 0.6369783\ttotal: 581ms\tremaining: 145ms\n",
      "16:\tlearn: 0.6366490\ttotal: 615ms\tremaining: 109ms\n",
      "17:\tlearn: 0.6360263\ttotal: 651ms\tremaining: 72.3ms\n",
      "18:\tlearn: 0.6356872\ttotal: 678ms\tremaining: 35.7ms\n",
      "19:\tlearn: 0.6354378\ttotal: 708ms\tremaining: 0us\n",
      "Learning rate set to 0.5\n",
      "0:\tlearn: 0.6645927\ttotal: 37.5ms\tremaining: 713ms\n",
      "1:\tlearn: 0.6559334\ttotal: 75.1ms\tremaining: 676ms\n",
      "2:\tlearn: 0.6509684\ttotal: 114ms\tremaining: 648ms\n",
      "3:\tlearn: 0.6480204\ttotal: 151ms\tremaining: 603ms\n",
      "4:\tlearn: 0.6460930\ttotal: 182ms\tremaining: 546ms\n",
      "5:\tlearn: 0.6443798\ttotal: 216ms\tremaining: 504ms\n",
      "6:\tlearn: 0.6431158\ttotal: 247ms\tremaining: 458ms\n",
      "7:\tlearn: 0.6418761\ttotal: 282ms\tremaining: 423ms\n",
      "8:\tlearn: 0.6411994\ttotal: 315ms\tremaining: 384ms\n",
      "9:\tlearn: 0.6401930\ttotal: 348ms\tremaining: 348ms\n",
      "10:\tlearn: 0.6397798\ttotal: 383ms\tremaining: 313ms\n",
      "11:\tlearn: 0.6383618\ttotal: 417ms\tremaining: 278ms\n",
      "12:\tlearn: 0.6380843\ttotal: 448ms\tremaining: 241ms\n",
      "13:\tlearn: 0.6378170\ttotal: 479ms\tremaining: 205ms\n",
      "14:\tlearn: 0.6370430\ttotal: 511ms\tremaining: 170ms\n",
      "15:\tlearn: 0.6366309\ttotal: 546ms\tremaining: 136ms\n",
      "16:\tlearn: 0.6360644\ttotal: 581ms\tremaining: 103ms\n",
      "17:\tlearn: 0.6355306\ttotal: 613ms\tremaining: 68.1ms\n",
      "18:\tlearn: 0.6352819\ttotal: 642ms\tremaining: 33.8ms\n",
      "19:\tlearn: 0.6345339\ttotal: 676ms\tremaining: 0us\n",
      "Learning rate set to 0.5\n",
      "0:\tlearn: 0.6663015\ttotal: 41.6ms\tremaining: 791ms\n",
      "1:\tlearn: 0.6563833\ttotal: 74.7ms\tremaining: 673ms\n",
      "2:\tlearn: 0.6519576\ttotal: 112ms\tremaining: 636ms\n",
      "3:\tlearn: 0.6498866\ttotal: 141ms\tremaining: 565ms\n",
      "4:\tlearn: 0.6474002\ttotal: 169ms\tremaining: 506ms\n"
     ]
    },
    {
     "name": "stdout",
     "output_type": "stream",
     "text": [
      "5:\tlearn: 0.6461085\ttotal: 200ms\tremaining: 467ms\n",
      "6:\tlearn: 0.6441735\ttotal: 228ms\tremaining: 423ms\n",
      "7:\tlearn: 0.6429661\ttotal: 255ms\tremaining: 383ms\n",
      "8:\tlearn: 0.6422902\ttotal: 279ms\tremaining: 341ms\n",
      "9:\tlearn: 0.6413970\ttotal: 302ms\tremaining: 302ms\n",
      "10:\tlearn: 0.6407716\ttotal: 325ms\tremaining: 266ms\n",
      "11:\tlearn: 0.6404533\ttotal: 349ms\tremaining: 232ms\n",
      "12:\tlearn: 0.6401410\ttotal: 372ms\tremaining: 200ms\n",
      "13:\tlearn: 0.6391404\ttotal: 399ms\tremaining: 171ms\n",
      "14:\tlearn: 0.6385310\ttotal: 430ms\tremaining: 143ms\n",
      "15:\tlearn: 0.6382048\ttotal: 462ms\tremaining: 115ms\n",
      "16:\tlearn: 0.6378927\ttotal: 499ms\tremaining: 88ms\n",
      "17:\tlearn: 0.6377045\ttotal: 531ms\tremaining: 59ms\n",
      "18:\tlearn: 0.6371788\ttotal: 561ms\tremaining: 29.5ms\n",
      "19:\tlearn: 0.6368424\ttotal: 586ms\tremaining: 0us\n",
      "Learning rate set to 0.5\n",
      "0:\tlearn: 0.6649819\ttotal: 46.3ms\tremaining: 880ms\n",
      "1:\tlearn: 0.6563103\ttotal: 83ms\tremaining: 747ms\n",
      "2:\tlearn: 0.6517697\ttotal: 115ms\tremaining: 652ms\n",
      "3:\tlearn: 0.6491821\ttotal: 146ms\tremaining: 583ms\n",
      "4:\tlearn: 0.6474668\ttotal: 173ms\tremaining: 519ms\n",
      "5:\tlearn: 0.6458181\ttotal: 204ms\tremaining: 476ms\n",
      "6:\tlearn: 0.6447806\ttotal: 240ms\tremaining: 447ms\n",
      "7:\tlearn: 0.6442706\ttotal: 270ms\tremaining: 405ms\n",
      "8:\tlearn: 0.6434610\ttotal: 297ms\tremaining: 363ms\n",
      "9:\tlearn: 0.6424802\ttotal: 323ms\tremaining: 323ms\n",
      "10:\tlearn: 0.6418080\ttotal: 351ms\tremaining: 287ms\n",
      "11:\tlearn: 0.6409491\ttotal: 383ms\tremaining: 255ms\n",
      "12:\tlearn: 0.6402739\ttotal: 417ms\tremaining: 224ms\n",
      "13:\tlearn: 0.6393345\ttotal: 452ms\tremaining: 194ms\n",
      "14:\tlearn: 0.6388192\ttotal: 486ms\tremaining: 162ms\n",
      "15:\tlearn: 0.6382147\ttotal: 519ms\tremaining: 130ms\n",
      "16:\tlearn: 0.6379859\ttotal: 553ms\tremaining: 97.7ms\n",
      "17:\tlearn: 0.6374038\ttotal: 589ms\tremaining: 65.5ms\n",
      "18:\tlearn: 0.6367431\ttotal: 618ms\tremaining: 32.5ms\n",
      "19:\tlearn: 0.6362571\ttotal: 647ms\tremaining: 0us\n",
      "Learning rate set to 0.5\n",
      "0:\tlearn: 0.6665859\ttotal: 33.9ms\tremaining: 644ms\n",
      "1:\tlearn: 0.6570863\ttotal: 67.9ms\tremaining: 611ms\n",
      "2:\tlearn: 0.6520948\ttotal: 102ms\tremaining: 576ms\n",
      "3:\tlearn: 0.6494674\ttotal: 139ms\tremaining: 555ms\n",
      "4:\tlearn: 0.6478727\ttotal: 165ms\tremaining: 495ms\n",
      "5:\tlearn: 0.6455459\ttotal: 194ms\tremaining: 453ms\n",
      "6:\tlearn: 0.6445429\ttotal: 220ms\tremaining: 409ms\n",
      "7:\tlearn: 0.6427203\ttotal: 247ms\tremaining: 370ms\n",
      "8:\tlearn: 0.6421542\ttotal: 271ms\tremaining: 332ms\n",
      "9:\tlearn: 0.6416467\ttotal: 298ms\tremaining: 298ms\n",
      "10:\tlearn: 0.6409749\ttotal: 323ms\tremaining: 265ms\n",
      "11:\tlearn: 0.6405693\ttotal: 347ms\tremaining: 231ms\n",
      "12:\tlearn: 0.6399410\ttotal: 372ms\tremaining: 200ms\n",
      "13:\tlearn: 0.6395462\ttotal: 400ms\tremaining: 171ms\n",
      "14:\tlearn: 0.6387238\ttotal: 426ms\tremaining: 142ms\n",
      "15:\tlearn: 0.6382404\ttotal: 452ms\tremaining: 113ms\n",
      "16:\tlearn: 0.6377601\ttotal: 477ms\tremaining: 84.2ms\n",
      "17:\tlearn: 0.6374824\ttotal: 500ms\tremaining: 55.6ms\n",
      "18:\tlearn: 0.6372846\ttotal: 524ms\tremaining: 27.6ms\n",
      "19:\tlearn: 0.6366062\ttotal: 549ms\tremaining: 0us\n",
      "Learning rate set to 0.5\n",
      "0:\tlearn: 0.6644253\ttotal: 35.5ms\tremaining: 1.39s\n",
      "1:\tlearn: 0.6556493\ttotal: 70.6ms\tremaining: 1.34s\n",
      "2:\tlearn: 0.6517448\ttotal: 106ms\tremaining: 1.31s\n",
      "3:\tlearn: 0.6492709\ttotal: 140ms\tremaining: 1.26s\n",
      "4:\tlearn: 0.6473223\ttotal: 177ms\tremaining: 1.24s\n",
      "5:\tlearn: 0.6455526\ttotal: 212ms\tremaining: 1.2s\n",
      "6:\tlearn: 0.6439624\ttotal: 244ms\tremaining: 1.15s\n",
      "7:\tlearn: 0.6432984\ttotal: 276ms\tremaining: 1.1s\n",
      "8:\tlearn: 0.6422719\ttotal: 315ms\tremaining: 1.08s\n",
      "9:\tlearn: 0.6416403\ttotal: 351ms\tremaining: 1.05s\n",
      "10:\tlearn: 0.6408731\ttotal: 386ms\tremaining: 1.02s\n",
      "11:\tlearn: 0.6394140\ttotal: 424ms\tremaining: 990ms\n",
      "12:\tlearn: 0.6387596\ttotal: 462ms\tremaining: 960ms\n",
      "13:\tlearn: 0.6377799\ttotal: 499ms\tremaining: 927ms\n",
      "14:\tlearn: 0.6372596\ttotal: 529ms\tremaining: 882ms\n",
      "15:\tlearn: 0.6369783\ttotal: 554ms\tremaining: 831ms\n",
      "16:\tlearn: 0.6366490\ttotal: 580ms\tremaining: 785ms\n",
      "17:\tlearn: 0.6360263\ttotal: 606ms\tremaining: 741ms\n",
      "18:\tlearn: 0.6356872\ttotal: 634ms\tremaining: 701ms\n",
      "19:\tlearn: 0.6354378\ttotal: 659ms\tremaining: 659ms\n",
      "20:\tlearn: 0.6351276\ttotal: 682ms\tremaining: 617ms\n",
      "21:\tlearn: 0.6343630\ttotal: 706ms\tremaining: 578ms\n",
      "22:\tlearn: 0.6338885\ttotal: 731ms\tremaining: 541ms\n",
      "23:\tlearn: 0.6332381\ttotal: 757ms\tremaining: 505ms\n",
      "24:\tlearn: 0.6330251\ttotal: 779ms\tremaining: 468ms\n",
      "25:\tlearn: 0.6327141\ttotal: 804ms\tremaining: 433ms\n",
      "26:\tlearn: 0.6320961\ttotal: 834ms\tremaining: 401ms\n",
      "27:\tlearn: 0.6316170\ttotal: 863ms\tremaining: 370ms\n",
      "28:\tlearn: 0.6313736\ttotal: 889ms\tremaining: 337ms\n",
      "29:\tlearn: 0.6312157\ttotal: 912ms\tremaining: 304ms\n",
      "30:\tlearn: 0.6308640\ttotal: 939ms\tremaining: 272ms\n",
      "31:\tlearn: 0.6303068\ttotal: 970ms\tremaining: 242ms\n",
      "32:\tlearn: 0.6297142\ttotal: 1s\tremaining: 213ms\n",
      "33:\tlearn: 0.6294641\ttotal: 1.04s\tremaining: 183ms\n",
      "34:\tlearn: 0.6291693\ttotal: 1.08s\tremaining: 154ms\n",
      "35:\tlearn: 0.6289074\ttotal: 1.11s\tremaining: 123ms\n",
      "36:\tlearn: 0.6284531\ttotal: 1.15s\tremaining: 93.1ms\n",
      "37:\tlearn: 0.6279036\ttotal: 1.19s\tremaining: 62.6ms\n",
      "38:\tlearn: 0.6269802\ttotal: 1.23s\tremaining: 31.4ms\n",
      "39:\tlearn: 0.6265732\ttotal: 1.25s\tremaining: 0us\n",
      "Learning rate set to 0.5\n",
      "0:\tlearn: 0.6645927\ttotal: 34ms\tremaining: 1.33s\n",
      "1:\tlearn: 0.6559334\ttotal: 63.8ms\tremaining: 1.21s\n",
      "2:\tlearn: 0.6509684\ttotal: 96.8ms\tremaining: 1.19s\n",
      "3:\tlearn: 0.6480204\ttotal: 129ms\tremaining: 1.16s\n",
      "4:\tlearn: 0.6460930\ttotal: 157ms\tremaining: 1.1s\n",
      "5:\tlearn: 0.6443798\ttotal: 194ms\tremaining: 1.1s\n",
      "6:\tlearn: 0.6431158\ttotal: 226ms\tremaining: 1.06s\n",
      "7:\tlearn: 0.6418761\ttotal: 255ms\tremaining: 1.02s\n",
      "8:\tlearn: 0.6411994\ttotal: 282ms\tremaining: 971ms\n",
      "9:\tlearn: 0.6401930\ttotal: 313ms\tremaining: 940ms\n",
      "10:\tlearn: 0.6397798\ttotal: 349ms\tremaining: 919ms\n",
      "11:\tlearn: 0.6383618\ttotal: 385ms\tremaining: 898ms\n",
      "12:\tlearn: 0.6380843\ttotal: 419ms\tremaining: 871ms\n",
      "13:\tlearn: 0.6378170\ttotal: 456ms\tremaining: 846ms\n",
      "14:\tlearn: 0.6370430\ttotal: 489ms\tremaining: 815ms\n",
      "15:\tlearn: 0.6366309\ttotal: 519ms\tremaining: 778ms\n",
      "16:\tlearn: 0.6360644\ttotal: 545ms\tremaining: 737ms\n",
      "17:\tlearn: 0.6355306\ttotal: 571ms\tremaining: 698ms\n",
      "18:\tlearn: 0.6352819\ttotal: 597ms\tremaining: 660ms\n",
      "19:\tlearn: 0.6345339\ttotal: 626ms\tremaining: 626ms\n",
      "20:\tlearn: 0.6343615\ttotal: 653ms\tremaining: 591ms\n",
      "21:\tlearn: 0.6341169\ttotal: 684ms\tremaining: 559ms\n",
      "22:\tlearn: 0.6337400\ttotal: 711ms\tremaining: 525ms\n",
      "23:\tlearn: 0.6333908\ttotal: 736ms\tremaining: 491ms\n",
      "24:\tlearn: 0.6328300\ttotal: 762ms\tremaining: 457ms\n",
      "25:\tlearn: 0.6320189\ttotal: 787ms\tremaining: 424ms\n",
      "26:\tlearn: 0.6315377\ttotal: 813ms\tremaining: 391ms\n",
      "27:\tlearn: 0.6311793\ttotal: 844ms\tremaining: 362ms\n",
      "28:\tlearn: 0.6306564\ttotal: 873ms\tremaining: 331ms\n",
      "29:\tlearn: 0.6300099\ttotal: 902ms\tremaining: 301ms\n",
      "30:\tlearn: 0.6289781\ttotal: 929ms\tremaining: 270ms\n",
      "31:\tlearn: 0.6286794\ttotal: 958ms\tremaining: 239ms\n",
      "32:\tlearn: 0.6281837\ttotal: 989ms\tremaining: 210ms\n",
      "33:\tlearn: 0.6279698\ttotal: 1.02s\tremaining: 180ms\n",
      "34:\tlearn: 0.6273918\ttotal: 1.06s\tremaining: 151ms\n",
      "35:\tlearn: 0.6269253\ttotal: 1.09s\tremaining: 122ms\n",
      "36:\tlearn: 0.6265123\ttotal: 1.13s\tremaining: 91.3ms\n",
      "37:\tlearn: 0.6261059\ttotal: 1.15s\tremaining: 60.8ms\n",
      "38:\tlearn: 0.6258184\ttotal: 1.18s\tremaining: 30.3ms\n",
      "39:\tlearn: 0.6255925\ttotal: 1.21s\tremaining: 0us\n",
      "Learning rate set to 0.5\n",
      "0:\tlearn: 0.6663015\ttotal: 43.1ms\tremaining: 1.68s\n",
      "1:\tlearn: 0.6563833\ttotal: 85.4ms\tremaining: 1.62s\n",
      "2:\tlearn: 0.6519576\ttotal: 129ms\tremaining: 1.58s\n",
      "3:\tlearn: 0.6498866\ttotal: 167ms\tremaining: 1.5s\n",
      "4:\tlearn: 0.6474002\ttotal: 200ms\tremaining: 1.4s\n",
      "5:\tlearn: 0.6461085\ttotal: 233ms\tremaining: 1.32s\n",
      "6:\tlearn: 0.6441735\ttotal: 261ms\tremaining: 1.23s\n",
      "7:\tlearn: 0.6429661\ttotal: 289ms\tremaining: 1.16s\n",
      "8:\tlearn: 0.6422902\ttotal: 321ms\tremaining: 1.11s\n",
      "9:\tlearn: 0.6413970\ttotal: 348ms\tremaining: 1.04s\n",
      "10:\tlearn: 0.6407716\ttotal: 373ms\tremaining: 985ms\n",
      "11:\tlearn: 0.6404533\ttotal: 398ms\tremaining: 930ms\n",
      "12:\tlearn: 0.6401410\ttotal: 426ms\tremaining: 886ms\n",
      "13:\tlearn: 0.6391404\ttotal: 460ms\tremaining: 855ms\n",
      "14:\tlearn: 0.6385310\ttotal: 488ms\tremaining: 813ms\n",
      "15:\tlearn: 0.6382048\ttotal: 514ms\tremaining: 771ms\n",
      "16:\tlearn: 0.6378927\ttotal: 544ms\tremaining: 735ms\n",
      "17:\tlearn: 0.6377045\ttotal: 567ms\tremaining: 693ms\n",
      "18:\tlearn: 0.6371788\ttotal: 593ms\tremaining: 656ms\n",
      "19:\tlearn: 0.6368424\ttotal: 618ms\tremaining: 618ms\n",
      "20:\tlearn: 0.6363354\ttotal: 646ms\tremaining: 585ms\n",
      "21:\tlearn: 0.6360749\ttotal: 675ms\tremaining: 552ms\n",
      "22:\tlearn: 0.6357723\ttotal: 699ms\tremaining: 517ms\n",
      "23:\tlearn: 0.6351112\ttotal: 729ms\tremaining: 486ms\n",
      "24:\tlearn: 0.6349030\ttotal: 754ms\tremaining: 452ms\n",
      "25:\tlearn: 0.6344435\ttotal: 778ms\tremaining: 419ms\n",
      "26:\tlearn: 0.6342149\ttotal: 801ms\tremaining: 386ms\n",
      "27:\tlearn: 0.6339200\ttotal: 825ms\tremaining: 354ms\n"
     ]
    },
    {
     "name": "stdout",
     "output_type": "stream",
     "text": [
      "28:\tlearn: 0.6336956\ttotal: 851ms\tremaining: 323ms\n",
      "29:\tlearn: 0.6319141\ttotal: 883ms\tremaining: 294ms\n",
      "30:\tlearn: 0.6313809\ttotal: 909ms\tremaining: 264ms\n",
      "31:\tlearn: 0.6310269\ttotal: 938ms\tremaining: 235ms\n",
      "32:\tlearn: 0.6306546\ttotal: 966ms\tremaining: 205ms\n",
      "33:\tlearn: 0.6299809\ttotal: 995ms\tremaining: 176ms\n",
      "34:\tlearn: 0.6296817\ttotal: 1.02s\tremaining: 146ms\n",
      "35:\tlearn: 0.6293662\ttotal: 1.05s\tremaining: 117ms\n",
      "36:\tlearn: 0.6289827\ttotal: 1.08s\tremaining: 87.5ms\n",
      "37:\tlearn: 0.6287611\ttotal: 1.1s\tremaining: 58.2ms\n",
      "38:\tlearn: 0.6284379\ttotal: 1.13s\tremaining: 29ms\n",
      "39:\tlearn: 0.6281669\ttotal: 1.15s\tremaining: 0us\n",
      "Learning rate set to 0.5\n",
      "0:\tlearn: 0.6649819\ttotal: 38ms\tremaining: 1.48s\n",
      "1:\tlearn: 0.6563103\ttotal: 72.9ms\tremaining: 1.39s\n",
      "2:\tlearn: 0.6517697\ttotal: 103ms\tremaining: 1.26s\n",
      "3:\tlearn: 0.6491821\ttotal: 135ms\tremaining: 1.22s\n",
      "4:\tlearn: 0.6474668\ttotal: 166ms\tremaining: 1.16s\n",
      "5:\tlearn: 0.6458181\ttotal: 202ms\tremaining: 1.14s\n",
      "6:\tlearn: 0.6447806\ttotal: 231ms\tremaining: 1.09s\n",
      "7:\tlearn: 0.6442706\ttotal: 256ms\tremaining: 1.02s\n",
      "8:\tlearn: 0.6434610\ttotal: 280ms\tremaining: 964ms\n",
      "9:\tlearn: 0.6424802\ttotal: 303ms\tremaining: 910ms\n",
      "10:\tlearn: 0.6418080\ttotal: 328ms\tremaining: 865ms\n",
      "11:\tlearn: 0.6409491\ttotal: 357ms\tremaining: 833ms\n",
      "12:\tlearn: 0.6402739\ttotal: 386ms\tremaining: 803ms\n",
      "13:\tlearn: 0.6393345\ttotal: 419ms\tremaining: 777ms\n",
      "14:\tlearn: 0.6388192\ttotal: 447ms\tremaining: 744ms\n",
      "15:\tlearn: 0.6382147\ttotal: 474ms\tremaining: 711ms\n",
      "16:\tlearn: 0.6379859\ttotal: 501ms\tremaining: 677ms\n",
      "17:\tlearn: 0.6374038\ttotal: 530ms\tremaining: 648ms\n",
      "18:\tlearn: 0.6367431\ttotal: 566ms\tremaining: 625ms\n",
      "19:\tlearn: 0.6362571\ttotal: 595ms\tremaining: 595ms\n",
      "20:\tlearn: 0.6348864\ttotal: 626ms\tremaining: 567ms\n",
      "21:\tlearn: 0.6345038\ttotal: 658ms\tremaining: 538ms\n",
      "22:\tlearn: 0.6343470\ttotal: 684ms\tremaining: 506ms\n",
      "23:\tlearn: 0.6338686\ttotal: 710ms\tremaining: 473ms\n",
      "24:\tlearn: 0.6334382\ttotal: 739ms\tremaining: 443ms\n",
      "25:\tlearn: 0.6330598\ttotal: 765ms\tremaining: 412ms\n",
      "26:\tlearn: 0.6327588\ttotal: 789ms\tremaining: 380ms\n",
      "27:\tlearn: 0.6322886\ttotal: 815ms\tremaining: 349ms\n",
      "28:\tlearn: 0.6319271\ttotal: 843ms\tremaining: 320ms\n",
      "29:\tlearn: 0.6314692\ttotal: 869ms\tremaining: 290ms\n",
      "30:\tlearn: 0.6309891\ttotal: 896ms\tremaining: 260ms\n",
      "31:\tlearn: 0.6308343\ttotal: 920ms\tremaining: 230ms\n",
      "32:\tlearn: 0.6305034\ttotal: 946ms\tremaining: 201ms\n",
      "33:\tlearn: 0.6301180\ttotal: 972ms\tremaining: 172ms\n",
      "34:\tlearn: 0.6298084\ttotal: 997ms\tremaining: 142ms\n",
      "35:\tlearn: 0.6294118\ttotal: 1.02s\tremaining: 113ms\n",
      "36:\tlearn: 0.6291512\ttotal: 1.05s\tremaining: 85.1ms\n",
      "37:\tlearn: 0.6289306\ttotal: 1.08s\tremaining: 56.7ms\n",
      "38:\tlearn: 0.6283843\ttotal: 1.1s\tremaining: 28.3ms\n",
      "39:\tlearn: 0.6282610\ttotal: 1.13s\tremaining: 0us\n",
      "Learning rate set to 0.5\n",
      "0:\tlearn: 0.6665859\ttotal: 42.6ms\tremaining: 1.66s\n",
      "1:\tlearn: 0.6570863\ttotal: 81.5ms\tremaining: 1.55s\n",
      "2:\tlearn: 0.6520948\ttotal: 118ms\tremaining: 1.46s\n",
      "3:\tlearn: 0.6494674\ttotal: 153ms\tremaining: 1.38s\n",
      "4:\tlearn: 0.6478727\ttotal: 189ms\tremaining: 1.32s\n",
      "5:\tlearn: 0.6455459\ttotal: 218ms\tremaining: 1.24s\n",
      "6:\tlearn: 0.6445429\ttotal: 244ms\tremaining: 1.15s\n",
      "7:\tlearn: 0.6427203\ttotal: 271ms\tremaining: 1.08s\n",
      "8:\tlearn: 0.6421542\ttotal: 298ms\tremaining: 1.03s\n",
      "9:\tlearn: 0.6416467\ttotal: 323ms\tremaining: 970ms\n",
      "10:\tlearn: 0.6409749\ttotal: 353ms\tremaining: 930ms\n",
      "11:\tlearn: 0.6405693\ttotal: 379ms\tremaining: 883ms\n",
      "12:\tlearn: 0.6399410\ttotal: 409ms\tremaining: 849ms\n",
      "13:\tlearn: 0.6395462\ttotal: 436ms\tremaining: 811ms\n",
      "14:\tlearn: 0.6387238\ttotal: 463ms\tremaining: 771ms\n",
      "15:\tlearn: 0.6382404\ttotal: 488ms\tremaining: 732ms\n",
      "16:\tlearn: 0.6377601\ttotal: 514ms\tremaining: 695ms\n",
      "17:\tlearn: 0.6374824\ttotal: 538ms\tremaining: 657ms\n",
      "18:\tlearn: 0.6372846\ttotal: 566ms\tremaining: 625ms\n",
      "19:\tlearn: 0.6366062\ttotal: 595ms\tremaining: 595ms\n",
      "20:\tlearn: 0.6364459\ttotal: 622ms\tremaining: 562ms\n",
      "21:\tlearn: 0.6359576\ttotal: 653ms\tremaining: 534ms\n",
      "22:\tlearn: 0.6356782\ttotal: 683ms\tremaining: 505ms\n",
      "23:\tlearn: 0.6346415\ttotal: 709ms\tremaining: 473ms\n",
      "24:\tlearn: 0.6341021\ttotal: 733ms\tremaining: 440ms\n",
      "25:\tlearn: 0.6333126\ttotal: 759ms\tremaining: 409ms\n",
      "26:\tlearn: 0.6328078\ttotal: 783ms\tremaining: 377ms\n",
      "27:\tlearn: 0.6323855\ttotal: 809ms\tremaining: 347ms\n",
      "28:\tlearn: 0.6320984\ttotal: 839ms\tremaining: 318ms\n",
      "29:\tlearn: 0.6318491\ttotal: 864ms\tremaining: 288ms\n",
      "30:\tlearn: 0.6315299\ttotal: 888ms\tremaining: 258ms\n",
      "31:\tlearn: 0.6311730\ttotal: 915ms\tremaining: 229ms\n",
      "32:\tlearn: 0.6309181\ttotal: 938ms\tremaining: 199ms\n",
      "33:\tlearn: 0.6305905\ttotal: 964ms\tremaining: 170ms\n",
      "34:\tlearn: 0.6303470\ttotal: 991ms\tremaining: 142ms\n",
      "35:\tlearn: 0.6299403\ttotal: 1.02s\tremaining: 113ms\n",
      "36:\tlearn: 0.6296443\ttotal: 1.04s\tremaining: 84.6ms\n",
      "37:\tlearn: 0.6292015\ttotal: 1.07s\tremaining: 56.6ms\n",
      "38:\tlearn: 0.6288026\ttotal: 1.1s\tremaining: 28.3ms\n",
      "39:\tlearn: 0.6281191\ttotal: 1.13s\tremaining: 0us\n",
      "Learning rate set to 0.5\n",
      "0:\tlearn: 0.6651207\ttotal: 41.7ms\tremaining: 1.62s\n",
      "1:\tlearn: 0.6557931\ttotal: 81ms\tremaining: 1.54s\n",
      "2:\tlearn: 0.6509208\ttotal: 115ms\tremaining: 1.41s\n",
      "3:\tlearn: 0.6488935\ttotal: 149ms\tremaining: 1.34s\n",
      "4:\tlearn: 0.6465148\ttotal: 193ms\tremaining: 1.35s\n",
      "5:\tlearn: 0.6437592\ttotal: 228ms\tremaining: 1.29s\n",
      "6:\tlearn: 0.6430293\ttotal: 256ms\tremaining: 1.21s\n",
      "7:\tlearn: 0.6417560\ttotal: 285ms\tremaining: 1.14s\n",
      "8:\tlearn: 0.6409905\ttotal: 311ms\tremaining: 1.07s\n",
      "9:\tlearn: 0.6403686\ttotal: 340ms\tremaining: 1.02s\n",
      "10:\tlearn: 0.6396362\ttotal: 369ms\tremaining: 974ms\n",
      "11:\tlearn: 0.6388452\ttotal: 401ms\tremaining: 936ms\n",
      "12:\tlearn: 0.6385087\ttotal: 429ms\tremaining: 892ms\n",
      "13:\tlearn: 0.6380484\ttotal: 457ms\tremaining: 848ms\n",
      "14:\tlearn: 0.6375382\ttotal: 487ms\tremaining: 811ms\n",
      "15:\tlearn: 0.6371200\ttotal: 517ms\tremaining: 776ms\n",
      "16:\tlearn: 0.6366600\ttotal: 546ms\tremaining: 739ms\n",
      "17:\tlearn: 0.6363812\ttotal: 578ms\tremaining: 706ms\n",
      "18:\tlearn: 0.6361475\ttotal: 606ms\tremaining: 669ms\n",
      "19:\tlearn: 0.6360297\ttotal: 638ms\tremaining: 638ms\n",
      "20:\tlearn: 0.6353150\ttotal: 670ms\tremaining: 606ms\n",
      "21:\tlearn: 0.6350889\ttotal: 697ms\tremaining: 570ms\n",
      "22:\tlearn: 0.6348632\ttotal: 725ms\tremaining: 536ms\n",
      "23:\tlearn: 0.6342147\ttotal: 754ms\tremaining: 503ms\n",
      "24:\tlearn: 0.6338711\ttotal: 781ms\tremaining: 468ms\n",
      "25:\tlearn: 0.6336273\ttotal: 807ms\tremaining: 434ms\n",
      "26:\tlearn: 0.6332470\ttotal: 834ms\tremaining: 402ms\n",
      "27:\tlearn: 0.6328132\ttotal: 869ms\tremaining: 372ms\n",
      "28:\tlearn: 0.6323995\ttotal: 906ms\tremaining: 344ms\n",
      "29:\tlearn: 0.6320543\ttotal: 936ms\tremaining: 312ms\n",
      "30:\tlearn: 0.6315752\ttotal: 962ms\tremaining: 279ms\n",
      "31:\tlearn: 0.6311395\ttotal: 991ms\tremaining: 248ms\n",
      "32:\tlearn: 0.6307179\ttotal: 1.02s\tremaining: 217ms\n",
      "33:\tlearn: 0.6304179\ttotal: 1.05s\tremaining: 186ms\n",
      "34:\tlearn: 0.6295672\ttotal: 1.09s\tremaining: 156ms\n",
      "35:\tlearn: 0.6294327\ttotal: 1.12s\tremaining: 124ms\n",
      "36:\tlearn: 0.6292011\ttotal: 1.15s\tremaining: 93.2ms\n",
      "37:\tlearn: 0.6290434\ttotal: 1.18s\tremaining: 62.2ms\n",
      "38:\tlearn: 0.6286345\ttotal: 1.22s\tremaining: 31.2ms\n",
      "39:\tlearn: 0.6284863\ttotal: 1.25s\tremaining: 0us\n",
      "<catboost.core.CatBoostClassifier object at 0x0000021700076F40>\n",
      "0.6466772944659531\n",
      "{'max_depth': 5, 'n_estimators': 40}\n"
     ]
    }
   ],
   "source": [
    "from catboost import CatBoostClassifier\n",
    "from sklearn.model_selection import GridSearchCV\n",
    "\n",
    "cbc = CatBoostClassifier()\n",
    "\n",
    "grid = {'max_depth': [3,4,5],'n_estimators':[20, 40]}\n",
    "\n",
    "#Instantiate GridSearchCV\n",
    "gscv = GridSearchCV (estimator = cbc, param_grid = grid, scoring ='accuracy', cv = 5)\n",
    "\n",
    "#fit the model\n",
    "gscv.fit(X_train,y_train)\n",
    "\n",
    "print(gscv.best_estimator_)\n",
    "\n",
    "#returns the best score\n",
    "print(gscv.best_score_)\n",
    "\n",
    "#returns the best parameters\n",
    "print(gscv.best_params_)"
   ]
  },
  {
   "cell_type": "markdown",
   "id": "arbitrary-reconstruction",
   "metadata": {},
   "source": [
    "CatBoost gave us 64% accuracy which gives an insight the trees used were 40 with depth of 5. We will also work on Gradient Boosting Classifier and get some insight"
   ]
  },
  {
   "cell_type": "code",
   "execution_count": null,
   "id": "sixth-trader",
   "metadata": {},
   "outputs": [],
   "source": []
  },
  {
   "cell_type": "markdown",
   "id": "colonial-pharmacology",
   "metadata": {},
   "source": [
    "### Gradient Boosting Classifier"
   ]
  },
  {
   "cell_type": "code",
   "execution_count": null,
   "id": "incoming-plasma",
   "metadata": {},
   "outputs": [],
   "source": [
    "from sklearn.ensemble import GradientBoostingClassifier"
   ]
  },
  {
   "cell_type": "code",
   "execution_count": 65,
   "id": "given-standing",
   "metadata": {
    "scrolled": true
   },
   "outputs": [
    {
     "name": "stdout",
     "output_type": "stream",
     "text": [
      "Learning rate:  0.05\n",
      "Accuracy score (training): 0.630\n",
      "Accuracy score (test): 0.623\n",
      "______________________________\n",
      "Learning rate:  0.075\n",
      "Accuracy score (training): 0.633\n",
      "Accuracy score (test): 0.626\n",
      "______________________________\n",
      "Learning rate:  0.1\n",
      "Accuracy score (training): 0.639\n",
      "Accuracy score (test): 0.631\n",
      "______________________________\n",
      "Learning rate:  0.25\n",
      "Accuracy score (training): 0.646\n",
      "Accuracy score (test): 0.636\n",
      "______________________________\n",
      "Learning rate:  0.5\n",
      "Accuracy score (training): 0.656\n",
      "Accuracy score (test): 0.642\n",
      "______________________________\n",
      "Learning rate:  0.75\n",
      "Accuracy score (training): 0.662\n",
      "Accuracy score (test): 0.643\n",
      "______________________________\n",
      "Learning rate:  1\n",
      "Accuracy score (training): 0.665\n",
      "Accuracy score (test): 0.646\n",
      "______________________________\n"
     ]
    }
   ],
   "source": [
    "lr_list = [0.05, 0.075, 0.1, 0.25, 0.5, 0.75, 1]\n",
    "\n",
    "for learning_rate in lr_list:\n",
    "    gb_clf = GradientBoostingClassifier(n_estimators=20, learning_rate=learning_rate, max_features=5, max_depth=5, random_state=0)\n",
    "    gb_clf.fit(X_train, y_train)\n",
    "    \n",
    "    \n",
    "    print(\"Learning rate: \", learning_rate)\n",
    "    print(\"Accuracy score (training): {0:.3f}\".format(gb_clf.score(X_train, y_train)))\n",
    "    print(\"Accuracy score (test): {0:.3f}\".format(gb_clf.score(X_test, y_test)))\n",
    "    print('______________________________')"
   ]
  },
  {
   "cell_type": "markdown",
   "id": "legitimate-upset",
   "metadata": {},
   "source": [
    "As we can see learning rate of 0.5 has shown increase in the accuracy score and the test score. Here the overfitting of the model is lowest. We will try to increase the depth to 7 and check if the accuracy increases with least overfitting"
   ]
  },
  {
   "cell_type": "code",
   "execution_count": 66,
   "id": "rolled-guess",
   "metadata": {},
   "outputs": [
    {
     "name": "stdout",
     "output_type": "stream",
     "text": [
      "Learning rate:  0.05\n",
      "Accuracy score (training): 0.647\n",
      "Accuracy score (test): 0.634\n",
      "______________________________\n",
      "Learning rate:  0.075\n",
      "Accuracy score (training): 0.653\n",
      "Accuracy score (test): 0.638\n",
      "______________________________\n",
      "Learning rate:  0.1\n",
      "Accuracy score (training): 0.657\n",
      "Accuracy score (test): 0.641\n",
      "______________________________\n",
      "Learning rate:  0.25\n",
      "Accuracy score (training): 0.672\n",
      "Accuracy score (test): 0.648\n",
      "______________________________\n",
      "Learning rate:  0.5\n",
      "Accuracy score (training): 0.680\n",
      "Accuracy score (test): 0.650\n",
      "______________________________\n",
      "Learning rate:  0.75\n",
      "Accuracy score (training): 0.685\n",
      "Accuracy score (test): 0.649\n",
      "______________________________\n",
      "Learning rate:  1\n",
      "Accuracy score (training): 0.685\n",
      "Accuracy score (test): 0.647\n",
      "______________________________\n"
     ]
    }
   ],
   "source": [
    "#Increasing the depth to 7\n",
    "lr_list = [0.05, 0.075, 0.1, 0.25, 0.5, 0.75, 1]\n",
    "\n",
    "for learning_rate in lr_list:\n",
    "    gb_clf = GradientBoostingClassifier(n_estimators=20, learning_rate=learning_rate, max_features=5, max_depth=7, random_state=0)\n",
    "    gb_clf.fit(X_train, y_train)\n",
    "    \n",
    "    \n",
    "    print(\"Learning rate: \", learning_rate)\n",
    "    print(\"Accuracy score (training): {0:.3f}\".format(gb_clf.score(X_train, y_train)))\n",
    "    print(\"Accuracy score (test): {0:.3f}\".format(gb_clf.score(X_test, y_test)))\n",
    "    print('______________________________')"
   ]
  },
  {
   "cell_type": "markdown",
   "id": "three-bowling",
   "metadata": {},
   "source": [
    "We do see some increase in accuracy but it leads to some overfitting. We will also try to increase max features and check how our model works, keeing the depth 7."
   ]
  },
  {
   "cell_type": "code",
   "execution_count": 72,
   "id": "former-february",
   "metadata": {
    "scrolled": true
   },
   "outputs": [
    {
     "name": "stdout",
     "output_type": "stream",
     "text": [
      "Learning rate:  0.05\n",
      "Accuracy score (training): 0.687\n",
      "Accuracy score (test): 0.650\n",
      "______________________________\n",
      "Learning rate:  0.075\n",
      "Accuracy score (training): 0.695\n",
      "Accuracy score (test): 0.651\n",
      "______________________________\n",
      "Learning rate:  0.1\n",
      "Accuracy score (training): 0.703\n",
      "Accuracy score (test): 0.655\n",
      "______________________________\n",
      "Learning rate:  0.25\n",
      "Accuracy score (training): 0.725\n",
      "Accuracy score (test): 0.660\n",
      "______________________________\n",
      "Learning rate:  0.5\n",
      "Accuracy score (training): 0.736\n",
      "Accuracy score (test): 0.657\n",
      "______________________________\n",
      "Learning rate:  0.75\n",
      "Accuracy score (training): 0.740\n",
      "Accuracy score (test): 0.654\n",
      "______________________________\n",
      "Learning rate:  1\n",
      "Accuracy score (training): 0.735\n",
      "Accuracy score (test): 0.655\n",
      "______________________________\n"
     ]
    }
   ],
   "source": [
    "# increasing the maximum features to 7\n",
    "lr_list = [0.05, 0.075, 0.1, 0.25, 0.5, 0.75, 1]\n",
    "\n",
    "for learning_rate in lr_list:\n",
    "    gb_clf = GradientBoostingClassifier(n_estimators=20, learning_rate=learning_rate, max_features=8, max_depth=10, random_state=0)\n",
    "    gb_clf.fit(X_train, y_train)\n",
    "    \n",
    "    \n",
    "    print(\"Learning rate: \", learning_rate)\n",
    "    print(\"Accuracy score (training): {0:.3f}\".format(gb_clf.score(X_train, y_train)))\n",
    "    print(\"Accuracy score (test): {0:.3f}\".format(gb_clf.score(X_test, y_test)))\n",
    "    print('______________________________')"
   ]
  },
  {
   "cell_type": "markdown",
   "id": "loose-beach",
   "metadata": {},
   "source": [
    "As we can see the variance increaased too much. At every GradientBoosting model we used we can see accuracy score for test decreases after learning rate of 0.25. Since our model has many parameters the variance drastically increases"
   ]
  },
  {
   "cell_type": "markdown",
   "id": "important-mumbai",
   "metadata": {},
   "source": [
    "We will try to reduce the max_feature and depth and try"
   ]
  },
  {
   "cell_type": "code",
   "execution_count": 75,
   "id": "demanding-southeast",
   "metadata": {
    "scrolled": false
   },
   "outputs": [
    {
     "name": "stdout",
     "output_type": "stream",
     "text": [
      "Learning rate:  0.05\n",
      "Accuracy score (training): 0.658\n",
      "Accuracy score (test): 0.639\n",
      "______________________________\n",
      "Learning rate:  0.075\n",
      "Accuracy score (training): 0.667\n",
      "Accuracy score (test): 0.646\n",
      "______________________________\n",
      "Learning rate:  0.1\n",
      "Accuracy score (training): 0.670\n",
      "Accuracy score (test): 0.646\n",
      "______________________________\n",
      "Learning rate:  0.25\n",
      "Accuracy score (training): 0.688\n",
      "Accuracy score (test): 0.654\n",
      "______________________________\n",
      "Learning rate:  0.5\n",
      "Accuracy score (training): 0.695\n",
      "Accuracy score (test): 0.652\n",
      "______________________________\n",
      "Learning rate:  0.75\n",
      "Accuracy score (training): 0.701\n",
      "Accuracy score (test): 0.651\n",
      "______________________________\n",
      "Learning rate:  1\n",
      "Accuracy score (training): 0.699\n",
      "Accuracy score (test): 0.650\n",
      "______________________________\n"
     ]
    }
   ],
   "source": [
    "lr_list = [0.05, 0.075, 0.1, 0.25, 0.5, 0.75, 1]\n",
    "\n",
    "for learning_rate in lr_list:\n",
    "    gb_clf = GradientBoostingClassifier(n_estimators=20, learning_rate=learning_rate, max_features=6, max_depth=8, random_state=0)\n",
    "    gb_clf.fit(X_train, y_train)\n",
    "    \n",
    "    \n",
    "    print(\"Learning rate: \", learning_rate)\n",
    "    print(\"Accuracy score (training): {0:.3f}\".format(gb_clf.score(X_train, y_train)))\n",
    "    print(\"Accuracy score (test): {0:.3f}\".format(gb_clf.score(X_test, y_test)))\n",
    "    print('______________________________')"
   ]
  },
  {
   "cell_type": "markdown",
   "id": "activated-richmond",
   "metadata": {},
   "source": [
    "##### At learning rate of 0.25 the training data accuracy is 68.8% and test is 65.4%. Our model has some variance but we are trying to keep low variance and low bias. The bias in this case is not much high, like we observed increased depth causes more bias.\n",
    "We will use grid search cv and carry out the same tuning"
   ]
  },
  {
   "cell_type": "code",
   "execution_count": 76,
   "id": "fancy-chassis",
   "metadata": {
    "scrolled": true
   },
   "outputs": [
    {
     "name": "stdout",
     "output_type": "stream",
     "text": [
      "0.6888818036893646\n",
      "0.65447318638808\n",
      "{'learning_rate': 0.25, 'max_depth': 8, 'max_features': 6, 'n_estimators': 20}\n"
     ]
    }
   ],
   "source": [
    "parameters = {\n",
    "    \"learning_rate\": [0.25],\n",
    "    \"max_depth\":[8],\n",
    "    \"max_features\":[6],\n",
    "    \"n_estimators\":[20]\n",
    "    }\n",
    "\n",
    "clf = GridSearchCV(GradientBoostingClassifier(), parameters, cv=5, n_jobs=-1)\n",
    "\n",
    "clf.fit(X_train, y_train)\n",
    "print(clf.score(X_train, y_train))\n",
    "print(clf.score(X_test, y_test))\n",
    "print(clf.best_params_)"
   ]
  },
  {
   "cell_type": "markdown",
   "id": "sound-particle",
   "metadata": {},
   "source": [
    "Hence we have optimised Gradient Boost Algorithm for our dataset."
   ]
  },
  {
   "cell_type": "markdown",
   "id": "boolean-gathering",
   "metadata": {},
   "source": [
    "Also tried KNN Classifier"
   ]
  },
  {
   "cell_type": "markdown",
   "id": "documented-slide",
   "metadata": {},
   "source": [
    "## KNeighborsClassifier"
   ]
  },
  {
   "cell_type": "code",
   "execution_count": 137,
   "id": "frozen-nicaragua",
   "metadata": {},
   "outputs": [
    {
     "name": "stdout",
     "output_type": "stream",
     "text": [
      "Accuracy: 0.6083703530512041\n"
     ]
    }
   ],
   "source": [
    "from sklearn.neighbors import KNeighborsClassifier\n",
    "neigh = KNeighborsClassifier(n_neighbors=7)\n",
    "neigh.fit(X_train, y_train)\n",
    "\n",
    "y_pred = neigh.predict(X_test)\n",
    "\n",
    "print(\"Accuracy:\",metrics.accuracy_score(y_test, y_pred))"
   ]
  },
  {
   "cell_type": "code",
   "execution_count": 138,
   "id": "absolute-highway",
   "metadata": {},
   "outputs": [],
   "source": [
    "train_score = []\n",
    "test_score = []\n",
    "k_vals = []\n",
    "\n",
    "for k in range(1, 21):\n",
    "    k_vals.append(k)\n",
    "    knn = KNeighborsClassifier(n_neighbors = k)\n",
    "    knn.fit(X_train, y_train)\n",
    "    \n",
    "    tr_score = knn.score(X_train, y_train)\n",
    "    train_score.append(tr_score)\n",
    "    \n",
    "    te_score = knn.score(X_test, y_test)\n",
    "    test_score.append(te_score)"
   ]
  },
  {
   "cell_type": "code",
   "execution_count": 139,
   "id": "modified-williams",
   "metadata": {
    "scrolled": true
   },
   "outputs": [
    {
     "data": {
      "image/png": "[encoded data removed]",
      "text/plain": [
       "<Figure size 720x360 with 1 Axes>"
      ]
     },
     "metadata": {
      "needs_background": "light"
     },
     "output_type": "display_data"
    }
   ],
   "source": [
    "plt.figure(figsize=(10,5))\n",
    "plt.xlabel('Different Values of K')\n",
    "plt.ylabel('Model score')\n",
    "plt.plot(k_vals, train_score, color = 'r', label = \"training score\")\n",
    "plt.plot(k_vals, test_score, color = 'b', label = 'test score')\n",
    "plt.legend(bbox_to_anchor=(1, 1),\n",
    "           bbox_transform=plt.gcf().transFigure)\n",
    "plt.show()"
   ]
  },
  {
   "cell_type": "markdown",
   "id": "logical-leather",
   "metadata": {},
   "source": [
    "We can see the prediction shows very high bias and as the score decreases the bias decreases. There is no meeting point. The model doesnt work properly."
   ]
  },
  {
   "cell_type": "code",
   "execution_count": null,
   "id": "suitable-controversy",
   "metadata": {},
   "outputs": [],
   "source": []
  }
 ],
 "metadata": {
  "kernelspec": {
   "display_name": "Python 3",
   "language": "python",
   "name": "python3"
  },
  "language_info": {
   "codemirror_mode": {
    "name": "ipython",
    "version": 3
   },
   "file_extension": ".py",
   "mimetype": "text/x-python",
   "name": "python",
   "nbconvert_exporter": "python",
   "pygments_lexer": "ipython3",
   "version": "3.9.2"
  }
 },
 "nbformat": 4,
 "nbformat_minor": 5
}
